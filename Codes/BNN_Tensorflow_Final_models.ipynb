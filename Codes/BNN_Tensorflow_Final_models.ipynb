{
  "nbformat": 4,
  "nbformat_minor": 0,
  "metadata": {
    "colab": {
      "name": "BNN_Tensorflow_Final_models.ipynb",
      "provenance": [],
      "collapsed_sections": [
        "nVJXToVbXsCI"
      ],
      "toc_visible": true
    },
    "kernelspec": {
      "name": "python3",
      "display_name": "Python 3"
    }
  },
  "cells": [
    {
      "cell_type": "code",
      "metadata": {
        "id": "OpT9bOfdxDCQ"
      },
      "source": [
        "# Load libriaries and functions.\n",
        "import scipy\n",
        "import pandas as pd\n",
        "import numpy as np\n",
        "import collections\n",
        "import tensorflow as tf\n",
        "tfk = tf.keras\n",
        "tf.keras.backend.set_floatx(\"float64\")\n",
        "import tensorflow_probability as tfp\n",
        "tfd = tfp.distributions\n",
        "# Define helper functions.\n",
        "neg_log_likelihood = lambda x, rv_x: -rv_x.log_prob(x)"
      ],
      "execution_count": 2,
      "outputs": []
    },
    {
      "cell_type": "markdown",
      "metadata": {
        "id": "HTSFQlDzvKKg"
      },
      "source": [
        "# Training on all data"
      ]
    },
    {
      "cell_type": "code",
      "metadata": {
        "ExecuteTime": {
          "end_time": "2020-10-07T07:13:49.421076Z",
          "start_time": "2020-10-07T07:13:48.488567Z"
        },
        "id": "Dn3srAFxXsCD"
      },
      "source": [
        "NS = pd.read_excel(\"NS_EOS.xlsx\")\n",
        "X = NS.iloc[:, 0:7].values\n",
        "y = NS.iloc[:, [7,9,11]].values\n",
        "X_before_transformation = X"
      ],
      "execution_count": 3,
      "outputs": []
    },
    {
      "cell_type": "code",
      "metadata": {
        "ExecuteTime": {
          "end_time": "2020-10-07T07:13:52.874443Z",
          "start_time": "2020-10-07T07:13:52.864470Z"
        },
        "id": "q5PKC0BbXsCF"
      },
      "source": [
        "columns = NS.columns[0:8].tolist() + [NS.columns[9]]+ [NS.columns[11]]\n",
        "inputs = columns[0:7]\n",
        "outputs = columns[7:]"
      ],
      "execution_count": 4,
      "outputs": []
    },
    {
      "cell_type": "markdown",
      "metadata": {
        "id": "nVJXToVbXsCI"
      },
      "source": [
        "## Preprocessing\n"
      ]
    },
    {
      "cell_type": "code",
      "metadata": {
        "ExecuteTime": {
          "end_time": "2020-10-07T07:13:57.654870Z",
          "start_time": "2020-10-07T07:13:54.767947Z"
        },
        "id": "Nh7MaVFbXsCJ"
      },
      "source": [
        "#Standardizing the data\n",
        "from sklearn.preprocessing import StandardScaler\n",
        "sc_X = StandardScaler()\n",
        "X = sc_X.fit_transform(X)\n",
        "sc_y = StandardScaler()\n",
        "y = sc_y.fit_transform(y)\n",
        "X_t = np.hstack((X,y))\n",
        "# Restore frame.\n",
        "dataset = pd.DataFrame(X_t, columns=columns)"
      ],
      "execution_count": 5,
      "outputs": []
    },
    {
      "cell_type": "code",
      "metadata": {
        "ExecuteTime": {
          "end_time": "2020-10-07T07:13:58.236788Z",
          "start_time": "2020-10-07T07:13:58.208861Z"
        },
        "id": "0kY1w-k1XsCL",
        "colab": {
          "base_uri": "https://localhost:8080/",
          "height": 402
        },
        "outputId": "9aec1af2-70b3-4f55-84fd-4e7eed8851d0"
      },
      "source": [
        "dataset"
      ],
      "execution_count": 6,
      "outputs": [
        {
          "output_type": "execute_result",
          "data": {
            "text/html": [
              "<div>\n",
              "<style scoped>\n",
              "    .dataframe tbody tr th:only-of-type {\n",
              "        vertical-align: middle;\n",
              "    }\n",
              "\n",
              "    .dataframe tbody tr th {\n",
              "        vertical-align: top;\n",
              "    }\n",
              "\n",
              "    .dataframe thead th {\n",
              "        text-align: right;\n",
              "    }\n",
              "</style>\n",
              "<table border=\"1\" class=\"dataframe\">\n",
              "  <thead>\n",
              "    <tr style=\"text-align: right;\">\n",
              "      <th></th>\n",
              "      <th>e(0)</th>\n",
              "      <th>rho(0)</th>\n",
              "      <th>K(0)</th>\n",
              "      <th>Q(0)</th>\n",
              "      <th>J(0)</th>\n",
              "      <th>L(0)</th>\n",
              "      <th>Ksym(0)</th>\n",
              "      <th>NS mass</th>\n",
              "      <th>R14</th>\n",
              "      <th>Lambda14</th>\n",
              "    </tr>\n",
              "  </thead>\n",
              "  <tbody>\n",
              "    <tr>\n",
              "      <th>0</th>\n",
              "      <td>0.687358</td>\n",
              "      <td>0.302562</td>\n",
              "      <td>-0.381250</td>\n",
              "      <td>-0.766316</td>\n",
              "      <td>1.153811</td>\n",
              "      <td>-0.881592</td>\n",
              "      <td>-0.692423</td>\n",
              "      <td>0.191919</td>\n",
              "      <td>-0.753640</td>\n",
              "      <td>-0.771322</td>\n",
              "    </tr>\n",
              "    <tr>\n",
              "      <th>1</th>\n",
              "      <td>-0.968701</td>\n",
              "      <td>0.354830</td>\n",
              "      <td>0.261559</td>\n",
              "      <td>-2.441151</td>\n",
              "      <td>1.591098</td>\n",
              "      <td>-0.742932</td>\n",
              "      <td>-0.203642</td>\n",
              "      <td>0.953546</td>\n",
              "      <td>-0.538471</td>\n",
              "      <td>-0.300545</td>\n",
              "    </tr>\n",
              "    <tr>\n",
              "      <th>2</th>\n",
              "      <td>1.267572</td>\n",
              "      <td>1.478603</td>\n",
              "      <td>0.111733</td>\n",
              "      <td>-1.412748</td>\n",
              "      <td>0.781408</td>\n",
              "      <td>-1.244891</td>\n",
              "      <td>-0.081475</td>\n",
              "      <td>0.698675</td>\n",
              "      <td>-1.057272</td>\n",
              "      <td>-0.635172</td>\n",
              "    </tr>\n",
              "    <tr>\n",
              "      <th>3</th>\n",
              "      <td>-0.451408</td>\n",
              "      <td>0.929784</td>\n",
              "      <td>1.958939</td>\n",
              "      <td>-1.652364</td>\n",
              "      <td>0.152835</td>\n",
              "      <td>-0.455368</td>\n",
              "      <td>-0.329694</td>\n",
              "      <td>1.301007</td>\n",
              "      <td>-0.153793</td>\n",
              "      <td>0.044865</td>\n",
              "    </tr>\n",
              "    <tr>\n",
              "      <th>4</th>\n",
              "      <td>-2.569575</td>\n",
              "      <td>-1.030285</td>\n",
              "      <td>1.987198</td>\n",
              "      <td>-0.558311</td>\n",
              "      <td>-0.049194</td>\n",
              "      <td>-1.039313</td>\n",
              "      <td>-0.412418</td>\n",
              "      <td>1.709199</td>\n",
              "      <td>-0.235230</td>\n",
              "      <td>0.243536</td>\n",
              "    </tr>\n",
              "    <tr>\n",
              "      <th>...</th>\n",
              "      <td>...</td>\n",
              "      <td>...</td>\n",
              "      <td>...</td>\n",
              "      <td>...</td>\n",
              "      <td>...</td>\n",
              "      <td>...</td>\n",
              "      <td>...</td>\n",
              "      <td>...</td>\n",
              "      <td>...</td>\n",
              "      <td>...</td>\n",
              "    </tr>\n",
              "    <tr>\n",
              "      <th>6646</th>\n",
              "      <td>0.011216</td>\n",
              "      <td>0.302562</td>\n",
              "      <td>-0.026111</td>\n",
              "      <td>0.063204</td>\n",
              "      <td>0.977421</td>\n",
              "      <td>-1.552898</td>\n",
              "      <td>-1.405772</td>\n",
              "      <td>-0.717055</td>\n",
              "      <td>-1.566186</td>\n",
              "      <td>-1.434525</td>\n",
              "    </tr>\n",
              "    <tr>\n",
              "      <th>6647</th>\n",
              "      <td>0.011732</td>\n",
              "      <td>-0.089452</td>\n",
              "      <td>-0.026050</td>\n",
              "      <td>0.063209</td>\n",
              "      <td>1.528291</td>\n",
              "      <td>-1.160043</td>\n",
              "      <td>-1.025951</td>\n",
              "      <td>0.125215</td>\n",
              "      <td>-0.980908</td>\n",
              "      <td>-0.934861</td>\n",
              "    </tr>\n",
              "    <tr>\n",
              "      <th>6648</th>\n",
              "      <td>0.009669</td>\n",
              "      <td>-0.141721</td>\n",
              "      <td>-0.025982</td>\n",
              "      <td>0.063176</td>\n",
              "      <td>1.485894</td>\n",
              "      <td>-1.555810</td>\n",
              "      <td>-1.496734</td>\n",
              "      <td>-0.580659</td>\n",
              "      <td>-1.494246</td>\n",
              "      <td>-1.390639</td>\n",
              "    </tr>\n",
              "    <tr>\n",
              "      <th>6649</th>\n",
              "      <td>0.012247</td>\n",
              "      <td>0.015085</td>\n",
              "      <td>-0.026016</td>\n",
              "      <td>0.063193</td>\n",
              "      <td>1.973312</td>\n",
              "      <td>-1.265334</td>\n",
              "      <td>-1.205646</td>\n",
              "      <td>-0.007199</td>\n",
              "      <td>-1.134415</td>\n",
              "      <td>-1.081491</td>\n",
              "    </tr>\n",
              "    <tr>\n",
              "      <th>6650</th>\n",
              "      <td>0.010184</td>\n",
              "      <td>0.093488</td>\n",
              "      <td>-0.026056</td>\n",
              "      <td>0.063234</td>\n",
              "      <td>1.913513</td>\n",
              "      <td>-1.176413</td>\n",
              "      <td>-1.082477</td>\n",
              "      <td>0.104307</td>\n",
              "      <td>-1.041270</td>\n",
              "      <td>-0.991547</td>\n",
              "    </tr>\n",
              "  </tbody>\n",
              "</table>\n",
              "<p>6651 rows × 10 columns</p>\n",
              "</div>"
            ],
            "text/plain": [
              "          e(0)    rho(0)      K(0)  ...   NS mass       R14  Lambda14\n",
              "0     0.687358  0.302562 -0.381250  ...  0.191919 -0.753640 -0.771322\n",
              "1    -0.968701  0.354830  0.261559  ...  0.953546 -0.538471 -0.300545\n",
              "2     1.267572  1.478603  0.111733  ...  0.698675 -1.057272 -0.635172\n",
              "3    -0.451408  0.929784  1.958939  ...  1.301007 -0.153793  0.044865\n",
              "4    -2.569575 -1.030285  1.987198  ...  1.709199 -0.235230  0.243536\n",
              "...        ...       ...       ...  ...       ...       ...       ...\n",
              "6646  0.011216  0.302562 -0.026111  ... -0.717055 -1.566186 -1.434525\n",
              "6647  0.011732 -0.089452 -0.026050  ...  0.125215 -0.980908 -0.934861\n",
              "6648  0.009669 -0.141721 -0.025982  ... -0.580659 -1.494246 -1.390639\n",
              "6649  0.012247  0.015085 -0.026016  ... -0.007199 -1.134415 -1.081491\n",
              "6650  0.010184  0.093488 -0.026056  ...  0.104307 -1.041270 -0.991547\n",
              "\n",
              "[6651 rows x 10 columns]"
            ]
          },
          "metadata": {
            "tags": []
          },
          "execution_count": 6
        }
      ]
    },
    {
      "cell_type": "code",
      "metadata": {
        "ExecuteTime": {
          "end_time": "2020-10-07T08:27:51.013169Z",
          "start_time": "2020-10-07T08:27:50.964049Z"
        },
        "id": "cPov9qjKXsCP"
      },
      "source": [
        "# Define some hyperparameters.\n",
        "n_epochs = 40\n",
        "n_samples = dataset.shape[0]\n",
        "n_batches = 32\n",
        "batch_size = np.floor(n_samples/n_batches)\n",
        "buffer_size = n_samples\n",
        "\n",
        "# Define training and test data sizes.\n",
        "n_train = int(dataset.shape[0]) #Complete dataset\n",
        "\n",
        "# Define dataset instance.\n",
        "data = tf.data.Dataset.from_tensor_slices((dataset[inputs].values, dataset[outputs].values))\n",
        "data = data.shuffle(n_samples, reshuffle_each_iteration=True)\n",
        "\n",
        "# Define train and test data instances.\n",
        "data_train = data.take(n_train).batch(batch_size).repeat(n_epochs)\n",
        "data_test = data.skip(n_train).batch(1).repeat(n_epochs)  #this is 0"
      ],
      "execution_count": 7,
      "outputs": []
    },
    {
      "cell_type": "markdown",
      "metadata": {
        "id": "eV11aj9-XsCR"
      },
      "source": [
        "## Model Building\n",
        "### Aleotoric Uncertainty\n",
        "To account for aleotoric uncertainty, which arises from the noise in the output, dense layers are combined with probabilistic layers. More specifically, the mean and covariance matrix of the output is modelled as a function of the input and parameter weights. The first hidden layer shall consist of 10 nodes, the second one needs 3 nodes for the means plus ten nodes for the variances and covariances of the 3-dimensional (there are 3 outputs) multivariate Gaussian posterior probability distribution in the final layer. This is achieved using the params_size method of the last layer (MultivariateNormalTriL), which is the declaration of the posterior probability distribution structure, in this case a multivariate normal distribution in which only one half of the covariance matrix is estimated (due to symmetry)."
      ]
    },
    {
      "cell_type": "code",
      "metadata": {
        "id": "QEXruBo_OwOp"
      },
      "source": [
        "class EarlyStoppingAtMinLoss(tfk.callbacks.Callback):\n",
        "    \"\"\"Stop training before loss becomes negative\n",
        "\n",
        "  Arguments:\n",
        "      patience: Number of epochs to wait after min has been hit. After this\n",
        "      number of no improvement, training stops.\n",
        "  \"\"\"\n",
        "\n",
        "    def __init__(self, patience=0):\n",
        "        super(EarlyStoppingAtMinLoss, self).__init__()\n",
        "        self.patience = patience\n",
        "        # best_weights to store the weights at which the minimum loss occurs.\n",
        "        self.best_weights = None\n",
        "\n",
        "    def on_train_begin(self, logs=None):\n",
        "        # The number of epoch it has waited when loss is no longer minimum.\n",
        "        self.wait = 0\n",
        "        # The epoch the training stops at.\n",
        "        self.stopped_epoch = 0\n",
        "        # Initialize the best as infinity.\n",
        "        self.best = np.Inf\n",
        "\n",
        "    def on_epoch_end(self, epoch, logs=None):\n",
        "        current = logs.get(\"loss\")\n",
        "        if np.less(current, self.best) and current>0:\n",
        "            self.best = current\n",
        "            self.wait = 0\n",
        "            # Record the best weights if current results is better (less).\n",
        "            self.best_weights = self.model.get_weights()\n",
        "        elif np.less(current,0):\n",
        "            '''self.wait += 1\n",
        "            if self.wait >= self.patience:'''\n",
        "            self.stopped_epoch = epoch\n",
        "            self.model.stop_training = True\n",
        "            print(\"\\n Restoring model weights from the end of the best epoch.\")\n",
        "            self.model.set_weights(self.best_weights)\n",
        "        \n",
        "\n",
        "    def on_train_end(self, logs=None):\n",
        "        if self.stopped_epoch > 0:\n",
        "            print(\"Epoch %02d: early stopping\" % (self.stopped_epoch))\n"
      ],
      "execution_count": 8,
      "outputs": []
    },
    {
      "cell_type": "code",
      "metadata": {
        "ExecuteTime": {
          "end_time": "2020-10-07T09:10:55.177955Z",
          "start_time": "2020-10-07T09:10:14.978403Z"
        },
        "id": "9A5yPV6-XsCR"
      },
      "source": [
        "# Define prior for regularization.\n",
        "len_inputs = 7\n",
        "len_outputs = 3\n",
        "prior = tfd.Independent(tfd.Normal(loc=tf.zeros(len_outputs, dtype=tf.float64), scale=1.0), reinterpreted_batch_ndims=1)\n",
        "# Define model instance.\n",
        "def BNN_Model(no_of_nodes,i):\n",
        "  model = tfk.Sequential([tfk.layers.InputLayer(input_shape=(len_inputs,), name=\"input\"),\n",
        "                          tfk.layers.Dense(no_of_nodes, activation=\"relu\", name=\"dense_1\"),\n",
        "                          tfk.layers.Dense(tfp.layers.MultivariateNormalTriL.params_size(len_outputs), activation=None, \n",
        "                                          name=\"distribution_weights\"),\n",
        "                        \n",
        "                          tfp.layers.MultivariateNormalTriL(len_outputs, \n",
        "                                                            activity_regularizer=\n",
        "                                                            tfp.layers.KLDivergenceRegularizer(prior,weight=1/n_batches)\n",
        "                                    , name=\"output\")]\n",
        "                        , name=\"BNN-\"+str(i))\n",
        "  # Compile model.\n",
        "  model.compile(optimizer=\"adam\", loss=neg_log_likelihood)\n",
        "  # Run training session.\n",
        "  model.fit(data_train, epochs=n_epochs, validation_data=data_test, verbose=True,callbacks=[EarlyStoppingAtMinLoss()])\n",
        "  # Describe model.\n",
        "  return model"
      ],
      "execution_count": 9,
      "outputs": []
    },
    {
      "cell_type": "code",
      "metadata": {
        "id": "F-XnGQytoMym",
        "colab": {
          "base_uri": "https://localhost:8080/"
        },
        "outputId": "5020acd1-952e-4990-b9b3-d673682d5e11"
      },
      "source": [
        "final_models_list = [20,10,9]\n",
        "models = []\n",
        "for i in final_models_list:\n",
        "  model_i = BNN_Model(i,i)\n",
        "  print(\"model \"+str(i)+\" trained.\")\n",
        "  models.append(model_i)"
      ],
      "execution_count": 10,
      "outputs": [
        {
          "output_type": "stream",
          "text": [
            "WARNING:tensorflow:From /usr/local/lib/python3.6/dist-packages/tensorflow/python/ops/linalg/linear_operator_lower_triangular.py:158: calling LinearOperator.__init__ (from tensorflow.python.ops.linalg.linear_operator) with graph_parents is deprecated and will be removed in a future version.\n",
            "Instructions for updating:\n",
            "Do not pass `graph_parents`.  They will  no longer be used.\n",
            "Epoch 1/40\n",
            "1320/1320 [==============================] - 3s 2ms/step - loss: 14.3249\n",
            "Epoch 2/40\n",
            "1320/1320 [==============================] - 3s 2ms/step - loss: 3.6210\n",
            "Epoch 3/40\n",
            "1320/1320 [==============================] - 3s 2ms/step - loss: 2.7365\n",
            "Epoch 4/40\n",
            "1320/1320 [==============================] - 3s 2ms/step - loss: 1.6751\n",
            "Epoch 5/40\n",
            "1320/1320 [==============================] - 3s 2ms/step - loss: 0.6073\n",
            "Epoch 6/40\n",
            "1305/1320 [============================>.] - ETA: 0s - loss: -0.6750\n",
            " Restoring model weights from the end of the best epoch.\n",
            "1320/1320 [==============================] - 3s 2ms/step - loss: -0.6840\n",
            "Epoch 05: early stopping\n",
            "model 20 trained.\n",
            "Epoch 1/40\n",
            "1320/1320 [==============================] - 3s 3ms/step - loss: 1.9738\n",
            "Epoch 2/40\n",
            "1319/1320 [============================>.] - ETA: 0s - loss: -0.8608\n",
            " Restoring model weights from the end of the best epoch.\n",
            "1320/1320 [==============================] - 3s 2ms/step - loss: -0.8609\n",
            "Epoch 01: early stopping\n",
            "model 10 trained.\n",
            "Epoch 1/40\n",
            "1320/1320 [==============================] - 3s 2ms/step - loss: 4.0152\n",
            "Epoch 2/40\n",
            "1320/1320 [==============================] - 3s 2ms/step - loss: 1.0760\n",
            "Epoch 3/40\n",
            "1311/1320 [============================>.] - ETA: 0s - loss: -0.6669\n",
            " Restoring model weights from the end of the best epoch.\n",
            "1320/1320 [==============================] - 3s 3ms/step - loss: -0.6706\n",
            "Epoch 02: early stopping\n",
            "model 9 trained.\n"
          ],
          "name": "stdout"
        }
      ]
    },
    {
      "cell_type": "code",
      "metadata": {
        "id": "MA_KYXSmez5n",
        "colab": {
          "base_uri": "https://localhost:8080/",
          "height": 1000
        },
        "outputId": "a2c767af-baf5-494a-a7b8-baa83e35465a"
      },
      "source": [
        "import matplotlib.pyplot as plt\n",
        "# \"Loss\"\n",
        "for model in models:\n",
        "  print(model.summary())\n",
        "  plt.plot(model.history.history['loss'])\n",
        "  plt.title(model.name+' loss')\n",
        "  plt.ylabel('loss')\n",
        "  plt.xlabel('epoch')\n",
        "  plt.show()"
      ],
      "execution_count": 11,
      "outputs": [
        {
          "output_type": "stream",
          "text": [
            "Model: \"BNN-20\"\n",
            "_________________________________________________________________\n",
            "Layer (type)                 Output Shape              Param #   \n",
            "=================================================================\n",
            "dense_1 (Dense)              (None, 20)                160       \n",
            "_________________________________________________________________\n",
            "distribution_weights (Dense) (None, 9)                 189       \n",
            "_________________________________________________________________\n",
            "output (MultivariateNormalTr ((None, 3), (None, 3))    0         \n",
            "=================================================================\n",
            "Total params: 349\n",
            "Trainable params: 349\n",
            "Non-trainable params: 0\n",
            "_________________________________________________________________\n",
            "None\n"
          ],
          "name": "stdout"
        },
        {
          "output_type": "display_data",
          "data": {
            "image/png": "[encoded data removed]",
            "text/plain": [
              "<Figure size 432x288 with 1 Axes>"
            ]
          },
          "metadata": {
            "tags": [],
            "needs_background": "light"
          }
        },
        {
          "output_type": "stream",
          "text": [
            "Model: \"BNN-10\"\n",
            "_________________________________________________________________\n",
            "Layer (type)                 Output Shape              Param #   \n",
            "=================================================================\n",
            "dense_1 (Dense)              (None, 10)                80        \n",
            "_________________________________________________________________\n",
            "distribution_weights (Dense) (None, 9)                 99        \n",
            "_________________________________________________________________\n",
            "output (MultivariateNormalTr ((None, 3), (None, 3))    0         \n",
            "=================================================================\n",
            "Total params: 179\n",
            "Trainable params: 179\n",
            "Non-trainable params: 0\n",
            "_________________________________________________________________\n",
            "None\n"
          ],
          "name": "stdout"
        },
        {
          "output_type": "display_data",
          "data": {
            "image/png": "[encoded data removed]",
            "text/plain": [
              "<Figure size 432x288 with 1 Axes>"
            ]
          },
          "metadata": {
            "tags": [],
            "needs_background": "light"
          }
        },
        {
          "output_type": "stream",
          "text": [
            "Model: \"BNN-9\"\n",
            "_________________________________________________________________\n",
            "Layer (type)                 Output Shape              Param #   \n",
            "=================================================================\n",
            "dense_1 (Dense)              (None, 9)                 72        \n",
            "_________________________________________________________________\n",
            "distribution_weights (Dense) (None, 9)                 90        \n",
            "_________________________________________________________________\n",
            "output (MultivariateNormalTr ((None, 3), (None, 3))    0         \n",
            "=================================================================\n",
            "Total params: 162\n",
            "Trainable params: 162\n",
            "Non-trainable params: 0\n",
            "_________________________________________________________________\n",
            "None\n"
          ],
          "name": "stdout"
        },
        {
          "output_type": "display_data",
          "data": {
            "image/png": "[encoded data removed]",
            "text/plain": [
              "<Figure size 432x288 with 1 Axes>"
            ]
          },
          "metadata": {
            "tags": [],
            "needs_background": "light"
          }
        }
      ]
    },
    {
      "cell_type": "markdown",
      "metadata": {
        "ExecuteTime": {
          "end_time": "2020-10-03T06:16:55.255258Z",
          "start_time": "2020-10-03T06:16:55.247310Z"
        },
        "id": "47euhW96XsCU"
      },
      "source": [
        "The activity_regularizer argument acts as prior for the output layer (the weight has to be adjusted to the number of batches). The training session might take a while depending on the specifications of your machine."
      ]
    },
    {
      "cell_type": "markdown",
      "metadata": {
        "id": "bvvXfW-uXsCV"
      },
      "source": [
        "# Prediction\n",
        "Since it is a probabilistic model, a Monte Carlo experiment is performed to provide a prediction. In particular, every prediction of a sample x results in a different output y, which is why the expectation over many individual predictions has to be calculated. Additionally, the variance can be determined this way."
      ]
    },
    {
      "cell_type": "markdown",
      "metadata": {
        "id": "VpsagN8TH535"
      },
      "source": [
        "## Sampling"
      ]
    },
    {
      "cell_type": "code",
      "metadata": {
        "id": "88JXgCbHH5KT",
        "colab": {
          "base_uri": "https://localhost:8080/"
        },
        "outputId": "887370f0-d671-4e83-bced-86510cb4e3e6"
      },
      "source": [
        "#Input mu (mean) -> [e(0),rho(0),K(0),Q(0),J(0),L(0),Ksym(0)]\n",
        "mu = np.array([-16.0,0.16,230.0,300,32,60,-100])  #small errata in paper, the mean value of Q(0) = +300\n",
        "#Input sigma (variance) -> [e(0),rho(0),K(0),Q(0),J(0),L(0),Ksym(0)]\n",
        "sigma = np.array([0.25,0.005,20,100,3,20,100])\n",
        "#correlations matrix\n",
        "        #        [e,     rho,     K,     Q,    J,     L,     Ksym]\n",
        "corr = np.array([[ 1.,   -0.56, -0.23,  0.06,  0.,    0.04,  0.04],\n",
        "                [-0.56,  1.,   -0.24,  0.27, -0.01, -0.01,  0.07],\n",
        "                [-0.23, -0.24,  1.,   -0.85, -0.15, -0.22, -0.47],\n",
        "                [ 0.06,  0.27, -0.85,  1.,    0.04,  0.12,  0.4 ],\n",
        "                [ 0.,   -0.01, -0.15,  0.04,  1.,    0.82,  0.4 ],\n",
        "                [ 0.04, -0.01, -0.22,  0.12,  0.82,  1.,    0.81],\n",
        "                [ 0.04,  0.07, -0.47,  0.4,   0.4,   0.81,  1.  ]])\n",
        "# Sigma (covariance matrix)\n",
        "d = np.diag(sigma)\n",
        "Sigma = d*corr*d\n",
        "X_sample = []\n",
        "i=0\n",
        "flag=0\n",
        "number_of_samples = 1000\n",
        "while flag==0:\n",
        "    X_test = np.random.multivariate_normal(mu,Sigma,size=(number_of_samples*2,1,1))\n",
        "    X_test = X_test[:,0,0]\n",
        "    lower_bound = mu-2*sigma\n",
        "    upper_bound = mu+2*sigma\n",
        "    for x in X_test:\n",
        "        check = (x>lower_bound)==(x<upper_bound)\n",
        "        if check.all()==True:\n",
        "            X_sample.append(x.tolist())\n",
        "    i+=1\n",
        "    if np.array(X_sample).shape[0]>=number_of_samples:\n",
        "        flag=1\n",
        "X_sample = np.array(X_sample)[:number_of_samples]\n",
        "print(\"Number of iterations= \"+str(i))\n",
        "X_sample.shape"
      ],
      "execution_count": 80,
      "outputs": [
        {
          "output_type": "stream",
          "text": [
            "Number of iterations= 1\n"
          ],
          "name": "stdout"
        },
        {
          "output_type": "execute_result",
          "data": {
            "text/plain": [
              "(1000, 7)"
            ]
          },
          "metadata": {
            "tags": []
          },
          "execution_count": 80
        }
      ]
    },
    {
      "cell_type": "code",
      "metadata": {
        "id": "70c5JTPoN2fd",
        "colab": {
          "base_uri": "https://localhost:8080/",
          "height": 402
        },
        "outputId": "2c646594-855d-4a8a-f48b-cf46ccb90265"
      },
      "source": [
        "test_untransformed = pd.DataFrame(data=X_sample,columns=inputs)\n",
        "test_untransformed"
      ],
      "execution_count": 81,
      "outputs": [
        {
          "output_type": "execute_result",
          "data": {
            "text/html": [
              "<div>\n",
              "<style scoped>\n",
              "    .dataframe tbody tr th:only-of-type {\n",
              "        vertical-align: middle;\n",
              "    }\n",
              "\n",
              "    .dataframe tbody tr th {\n",
              "        vertical-align: top;\n",
              "    }\n",
              "\n",
              "    .dataframe thead th {\n",
              "        text-align: right;\n",
              "    }\n",
              "</style>\n",
              "<table border=\"1\" class=\"dataframe\">\n",
              "  <thead>\n",
              "    <tr style=\"text-align: right;\">\n",
              "      <th></th>\n",
              "      <th>e(0)</th>\n",
              "      <th>rho(0)</th>\n",
              "      <th>K(0)</th>\n",
              "      <th>Q(0)</th>\n",
              "      <th>J(0)</th>\n",
              "      <th>L(0)</th>\n",
              "      <th>Ksym(0)</th>\n",
              "    </tr>\n",
              "  </thead>\n",
              "  <tbody>\n",
              "    <tr>\n",
              "      <th>0</th>\n",
              "      <td>-15.852569</td>\n",
              "      <td>0.159284</td>\n",
              "      <td>223.523908</td>\n",
              "      <td>349.689957</td>\n",
              "      <td>31.398190</td>\n",
              "      <td>66.711028</td>\n",
              "      <td>-38.969833</td>\n",
              "    </tr>\n",
              "    <tr>\n",
              "      <th>1</th>\n",
              "      <td>-15.976395</td>\n",
              "      <td>0.156089</td>\n",
              "      <td>242.838571</td>\n",
              "      <td>408.672947</td>\n",
              "      <td>29.973709</td>\n",
              "      <td>69.757225</td>\n",
              "      <td>-111.086834</td>\n",
              "    </tr>\n",
              "    <tr>\n",
              "      <th>2</th>\n",
              "      <td>-15.623846</td>\n",
              "      <td>0.158483</td>\n",
              "      <td>212.709710</td>\n",
              "      <td>219.167159</td>\n",
              "      <td>30.416085</td>\n",
              "      <td>81.705726</td>\n",
              "      <td>-94.363594</td>\n",
              "    </tr>\n",
              "    <tr>\n",
              "      <th>3</th>\n",
              "      <td>-16.029494</td>\n",
              "      <td>0.162671</td>\n",
              "      <td>223.932621</td>\n",
              "      <td>385.995336</td>\n",
              "      <td>35.320064</td>\n",
              "      <td>67.216773</td>\n",
              "      <td>67.728655</td>\n",
              "    </tr>\n",
              "    <tr>\n",
              "      <th>4</th>\n",
              "      <td>-15.883499</td>\n",
              "      <td>0.164560</td>\n",
              "      <td>229.522794</td>\n",
              "      <td>156.780237</td>\n",
              "      <td>27.299334</td>\n",
              "      <td>54.896736</td>\n",
              "      <td>-123.075430</td>\n",
              "    </tr>\n",
              "    <tr>\n",
              "      <th>...</th>\n",
              "      <td>...</td>\n",
              "      <td>...</td>\n",
              "      <td>...</td>\n",
              "      <td>...</td>\n",
              "      <td>...</td>\n",
              "      <td>...</td>\n",
              "      <td>...</td>\n",
              "    </tr>\n",
              "    <tr>\n",
              "      <th>995</th>\n",
              "      <td>-15.500759</td>\n",
              "      <td>0.161564</td>\n",
              "      <td>234.500633</td>\n",
              "      <td>187.319065</td>\n",
              "      <td>33.805803</td>\n",
              "      <td>65.609865</td>\n",
              "      <td>-155.105779</td>\n",
              "    </tr>\n",
              "    <tr>\n",
              "      <th>996</th>\n",
              "      <td>-15.979880</td>\n",
              "      <td>0.169252</td>\n",
              "      <td>198.742950</td>\n",
              "      <td>481.145392</td>\n",
              "      <td>32.278751</td>\n",
              "      <td>54.606618</td>\n",
              "      <td>-199.201249</td>\n",
              "    </tr>\n",
              "    <tr>\n",
              "      <th>997</th>\n",
              "      <td>-16.121898</td>\n",
              "      <td>0.154570</td>\n",
              "      <td>244.507019</td>\n",
              "      <td>300.012402</td>\n",
              "      <td>33.665515</td>\n",
              "      <td>35.731431</td>\n",
              "      <td>-134.320778</td>\n",
              "    </tr>\n",
              "    <tr>\n",
              "      <th>998</th>\n",
              "      <td>-15.686679</td>\n",
              "      <td>0.164847</td>\n",
              "      <td>222.439724</td>\n",
              "      <td>264.258824</td>\n",
              "      <td>32.382841</td>\n",
              "      <td>61.732324</td>\n",
              "      <td>-45.732126</td>\n",
              "    </tr>\n",
              "    <tr>\n",
              "      <th>999</th>\n",
              "      <td>-16.123173</td>\n",
              "      <td>0.164170</td>\n",
              "      <td>208.102674</td>\n",
              "      <td>479.281345</td>\n",
              "      <td>31.095133</td>\n",
              "      <td>23.198767</td>\n",
              "      <td>0.739758</td>\n",
              "    </tr>\n",
              "  </tbody>\n",
              "</table>\n",
              "<p>1000 rows × 7 columns</p>\n",
              "</div>"
            ],
            "text/plain": [
              "          e(0)    rho(0)        K(0)  ...       J(0)       L(0)     Ksym(0)\n",
              "0   -15.852569  0.159284  223.523908  ...  31.398190  66.711028  -38.969833\n",
              "1   -15.976395  0.156089  242.838571  ...  29.973709  69.757225 -111.086834\n",
              "2   -15.623846  0.158483  212.709710  ...  30.416085  81.705726  -94.363594\n",
              "3   -16.029494  0.162671  223.932621  ...  35.320064  67.216773   67.728655\n",
              "4   -15.883499  0.164560  229.522794  ...  27.299334  54.896736 -123.075430\n",
              "..         ...       ...         ...  ...        ...        ...         ...\n",
              "995 -15.500759  0.161564  234.500633  ...  33.805803  65.609865 -155.105779\n",
              "996 -15.979880  0.169252  198.742950  ...  32.278751  54.606618 -199.201249\n",
              "997 -16.121898  0.154570  244.507019  ...  33.665515  35.731431 -134.320778\n",
              "998 -15.686679  0.164847  222.439724  ...  32.382841  61.732324  -45.732126\n",
              "999 -16.123173  0.164170  208.102674  ...  31.095133  23.198767    0.739758\n",
              "\n",
              "[1000 rows x 7 columns]"
            ]
          },
          "metadata": {
            "tags": []
          },
          "execution_count": 81
        }
      ]
    },
    {
      "cell_type": "code",
      "metadata": {
        "id": "gGsekUio3L5M",
        "colab": {
          "base_uri": "https://localhost:8080/",
          "height": 402
        },
        "outputId": "d55e2fcd-2ded-40e4-a10f-8c3cda720b2a"
      },
      "source": [
        "test = sc_X.transform(X_sample)\n",
        "test_df = pd.DataFrame(data=test,columns=inputs)\n",
        "test_df"
      ],
      "execution_count": 82,
      "outputs": [
        {
          "output_type": "execute_result",
          "data": {
            "text/html": [
              "<div>\n",
              "<style scoped>\n",
              "    .dataframe tbody tr th:only-of-type {\n",
              "        vertical-align: middle;\n",
              "    }\n",
              "\n",
              "    .dataframe tbody tr th {\n",
              "        vertical-align: top;\n",
              "    }\n",
              "\n",
              "    .dataframe thead th {\n",
              "        text-align: right;\n",
              "    }\n",
              "</style>\n",
              "<table border=\"1\" class=\"dataframe\">\n",
              "  <thead>\n",
              "    <tr style=\"text-align: right;\">\n",
              "      <th></th>\n",
              "      <th>e(0)</th>\n",
              "      <th>rho(0)</th>\n",
              "      <th>K(0)</th>\n",
              "      <th>Q(0)</th>\n",
              "      <th>J(0)</th>\n",
              "      <th>L(0)</th>\n",
              "      <th>Ksym(0)</th>\n",
              "    </tr>\n",
              "  </thead>\n",
              "  <tbody>\n",
              "    <tr>\n",
              "      <th>0</th>\n",
              "      <td>0.771583</td>\n",
              "      <td>-0.172151</td>\n",
              "      <td>-0.465465</td>\n",
              "      <td>0.733244</td>\n",
              "      <td>-0.266946</td>\n",
              "      <td>0.111327</td>\n",
              "      <td>0.329830</td>\n",
              "    </tr>\n",
              "    <tr>\n",
              "      <th>1</th>\n",
              "      <td>0.132956</td>\n",
              "      <td>-1.006905</td>\n",
              "      <td>0.845032</td>\n",
              "      <td>1.528591</td>\n",
              "      <td>-0.777024</td>\n",
              "      <td>0.299289</td>\n",
              "      <td>-0.705851</td>\n",
              "    </tr>\n",
              "    <tr>\n",
              "      <th>2</th>\n",
              "      <td>1.951215</td>\n",
              "      <td>-0.381267</td>\n",
              "      <td>-1.199207</td>\n",
              "      <td>-1.026770</td>\n",
              "      <td>-0.618618</td>\n",
              "      <td>1.036556</td>\n",
              "      <td>-0.465686</td>\n",
              "    </tr>\n",
              "    <tr>\n",
              "      <th>3</th>\n",
              "      <td>-0.140897</td>\n",
              "      <td>0.713182</td>\n",
              "      <td>-0.437734</td>\n",
              "      <td>1.222799</td>\n",
              "      <td>1.137398</td>\n",
              "      <td>0.142533</td>\n",
              "      <td>1.862141</td>\n",
              "    </tr>\n",
              "    <tr>\n",
              "      <th>4</th>\n",
              "      <td>0.612066</td>\n",
              "      <td>1.206710</td>\n",
              "      <td>-0.058442</td>\n",
              "      <td>-1.868016</td>\n",
              "      <td>-1.734663</td>\n",
              "      <td>-0.617659</td>\n",
              "      <td>-0.878021</td>\n",
              "    </tr>\n",
              "    <tr>\n",
              "      <th>...</th>\n",
              "      <td>...</td>\n",
              "      <td>...</td>\n",
              "      <td>...</td>\n",
              "      <td>...</td>\n",
              "      <td>...</td>\n",
              "      <td>...</td>\n",
              "      <td>...</td>\n",
              "    </tr>\n",
              "    <tr>\n",
              "      <th>995</th>\n",
              "      <td>2.586030</td>\n",
              "      <td>0.423924</td>\n",
              "      <td>0.279304</td>\n",
              "      <td>-1.456220</td>\n",
              "      <td>0.595172</td>\n",
              "      <td>0.043381</td>\n",
              "      <td>-1.338013</td>\n",
              "    </tr>\n",
              "    <tr>\n",
              "      <th>996</th>\n",
              "      <td>0.114983</td>\n",
              "      <td>2.432984</td>\n",
              "      <td>-2.146850</td>\n",
              "      <td>2.505834</td>\n",
              "      <td>0.048365</td>\n",
              "      <td>-0.635560</td>\n",
              "      <td>-1.971273</td>\n",
              "    </tr>\n",
              "    <tr>\n",
              "      <th>997</th>\n",
              "      <td>-0.617470</td>\n",
              "      <td>-1.403878</td>\n",
              "      <td>0.958236</td>\n",
              "      <td>0.063375</td>\n",
              "      <td>0.544938</td>\n",
              "      <td>-1.800229</td>\n",
              "      <td>-1.039517</td>\n",
              "    </tr>\n",
              "    <tr>\n",
              "      <th>998</th>\n",
              "      <td>1.627153</td>\n",
              "      <td>1.281932</td>\n",
              "      <td>-0.539027</td>\n",
              "      <td>-0.418738</td>\n",
              "      <td>0.085638</td>\n",
              "      <td>-0.195877</td>\n",
              "      <td>0.232716</td>\n",
              "    </tr>\n",
              "    <tr>\n",
              "      <th>999</th>\n",
              "      <td>-0.624044</td>\n",
              "      <td>1.104945</td>\n",
              "      <td>-1.511794</td>\n",
              "      <td>2.480699</td>\n",
              "      <td>-0.375464</td>\n",
              "      <td>-2.573541</td>\n",
              "      <td>0.900105</td>\n",
              "    </tr>\n",
              "  </tbody>\n",
              "</table>\n",
              "<p>1000 rows × 7 columns</p>\n",
              "</div>"
            ],
            "text/plain": [
              "         e(0)    rho(0)      K(0)      Q(0)      J(0)      L(0)   Ksym(0)\n",
              "0    0.771583 -0.172151 -0.465465  0.733244 -0.266946  0.111327  0.329830\n",
              "1    0.132956 -1.006905  0.845032  1.528591 -0.777024  0.299289 -0.705851\n",
              "2    1.951215 -0.381267 -1.199207 -1.026770 -0.618618  1.036556 -0.465686\n",
              "3   -0.140897  0.713182 -0.437734  1.222799  1.137398  0.142533  1.862141\n",
              "4    0.612066  1.206710 -0.058442 -1.868016 -1.734663 -0.617659 -0.878021\n",
              "..        ...       ...       ...       ...       ...       ...       ...\n",
              "995  2.586030  0.423924  0.279304 -1.456220  0.595172  0.043381 -1.338013\n",
              "996  0.114983  2.432984 -2.146850  2.505834  0.048365 -0.635560 -1.971273\n",
              "997 -0.617470 -1.403878  0.958236  0.063375  0.544938 -1.800229 -1.039517\n",
              "998  1.627153  1.281932 -0.539027 -0.418738  0.085638 -0.195877  0.232716\n",
              "999 -0.624044  1.104945 -1.511794  2.480699 -0.375464 -2.573541  0.900105\n",
              "\n",
              "[1000 rows x 7 columns]"
            ]
          },
          "metadata": {
            "tags": []
          },
          "execution_count": 82
        }
      ]
    },
    {
      "cell_type": "markdown",
      "metadata": {
        "id": "wgYauBfUH9bl"
      },
      "source": [
        "## Predicting\n"
      ]
    },
    {
      "cell_type": "code",
      "metadata": {
        "id": "u0mvRuZbsTry"
      },
      "source": [
        "#Selecting model to show output (best overall is 20)\n",
        "samples = test.shape[0]\n",
        "iterations = 50\n",
        "len_inputs = 7\n",
        "len_outputs = 3\n",
        "model_i = models[0]\n",
        "X_true = np.empty(shape=(samples, len_inputs))\n",
        "Y_pred = np.empty(shape=(samples, len_outputs, iterations))\n",
        "for i in range(samples):\n",
        "    # Define datatest instance.\n",
        "    X_true[i,:] = X_sample[i,:]\n",
        "    arr = test[i,:]\n",
        "    for k in range(iterations):\n",
        "      Y_pred[i,:,k] = model_i.predict([[arr[0],arr[1],arr[2],arr[3],arr[4],arr[5],arr[6]]])\n",
        "      Y_pred[i,:,k] = sc_y.inverse_transform(Y_pred[i,:,k])\n",
        "\n",
        "# Calculate mean and standard deviation.\n",
        "Y_pred_m = np.mean(Y_pred, axis=-1)\n",
        "Y_pred_s = np.std(Y_pred, axis=-1)"
      ],
      "execution_count": 83,
      "outputs": []
    },
    {
      "cell_type": "code",
      "metadata": {
        "id": "TQwJClyPsVQi"
      },
      "source": [
        "#For PC\n",
        "PC_pred = scipy.stats.pearsonr(Y_pred_m[:,2],X_true[:,6])"
      ],
      "execution_count": 84,
      "outputs": []
    },
    {
      "cell_type": "code",
      "metadata": {
        "id": "auBvPaPYZuTo"
      },
      "source": [
        "final_result = test_untransformed\n",
        "final_result['NS Mass Mean'] = Y_pred_m[:,0].transpose()\n",
        "final_result['NS Mass Std_dev'] = Y_pred_s[:,0].transpose()\n",
        "final_result['NS Radius Mean'] = Y_pred_m[:,1].transpose()\n",
        "final_result['NS Radius Std_dev'] = Y_pred_s[:,1].transpose()\n",
        "final_result['Lambda 1.4 Mean (PC = '+str(PC_pred[0])+')'] = Y_pred_m[:,2].transpose()\n",
        "final_result['Lambda 1.4 Std_dev'] = Y_pred_s[:,2].transpose()\n"
      ],
      "execution_count": 85,
      "outputs": []
    },
    {
      "cell_type": "code",
      "metadata": {
        "id": "04k-vGLhaULw",
        "colab": {
          "base_uri": "https://localhost:8080/",
          "height": 455
        },
        "outputId": "4788ca6f-cc87-448f-83ba-5fb4e3d239bc"
      },
      "source": [
        "final_result"
      ],
      "execution_count": 86,
      "outputs": [
        {
          "output_type": "execute_result",
          "data": {
            "text/html": [
              "<div>\n",
              "<style scoped>\n",
              "    .dataframe tbody tr th:only-of-type {\n",
              "        vertical-align: middle;\n",
              "    }\n",
              "\n",
              "    .dataframe tbody tr th {\n",
              "        vertical-align: top;\n",
              "    }\n",
              "\n",
              "    .dataframe thead th {\n",
              "        text-align: right;\n",
              "    }\n",
              "</style>\n",
              "<table border=\"1\" class=\"dataframe\">\n",
              "  <thead>\n",
              "    <tr style=\"text-align: right;\">\n",
              "      <th></th>\n",
              "      <th>e(0)</th>\n",
              "      <th>rho(0)</th>\n",
              "      <th>K(0)</th>\n",
              "      <th>Q(0)</th>\n",
              "      <th>J(0)</th>\n",
              "      <th>L(0)</th>\n",
              "      <th>Ksym(0)</th>\n",
              "      <th>NS Mass Mean</th>\n",
              "      <th>NS Mass Std_dev</th>\n",
              "      <th>NS Radius Mean</th>\n",
              "      <th>NS Radius Std_dev</th>\n",
              "      <th>Lambda 1.4 Mean (PC = 0.8298101421792436)</th>\n",
              "      <th>Lambda 1.4 Std_dev</th>\n",
              "    </tr>\n",
              "  </thead>\n",
              "  <tbody>\n",
              "    <tr>\n",
              "      <th>0</th>\n",
              "      <td>-15.852569</td>\n",
              "      <td>0.159284</td>\n",
              "      <td>223.523908</td>\n",
              "      <td>349.689957</td>\n",
              "      <td>31.398190</td>\n",
              "      <td>66.711028</td>\n",
              "      <td>-38.969833</td>\n",
              "      <td>2.081290</td>\n",
              "      <td>0.018933</td>\n",
              "      <td>12.853865</td>\n",
              "      <td>0.321992</td>\n",
              "      <td>464.762643</td>\n",
              "      <td>56.112333</td>\n",
              "    </tr>\n",
              "    <tr>\n",
              "      <th>1</th>\n",
              "      <td>-15.976395</td>\n",
              "      <td>0.156089</td>\n",
              "      <td>242.838571</td>\n",
              "      <td>408.672947</td>\n",
              "      <td>29.973709</td>\n",
              "      <td>69.757225</td>\n",
              "      <td>-111.086834</td>\n",
              "      <td>2.007281</td>\n",
              "      <td>0.051408</td>\n",
              "      <td>12.728095</td>\n",
              "      <td>0.300416</td>\n",
              "      <td>380.670717</td>\n",
              "      <td>52.328973</td>\n",
              "    </tr>\n",
              "    <tr>\n",
              "      <th>2</th>\n",
              "      <td>-15.623846</td>\n",
              "      <td>0.158483</td>\n",
              "      <td>212.709710</td>\n",
              "      <td>219.167159</td>\n",
              "      <td>30.416085</td>\n",
              "      <td>81.705726</td>\n",
              "      <td>-94.363594</td>\n",
              "      <td>2.043819</td>\n",
              "      <td>0.055812</td>\n",
              "      <td>13.527555</td>\n",
              "      <td>0.458907</td>\n",
              "      <td>445.714137</td>\n",
              "      <td>47.878349</td>\n",
              "    </tr>\n",
              "    <tr>\n",
              "      <th>3</th>\n",
              "      <td>-16.029494</td>\n",
              "      <td>0.162671</td>\n",
              "      <td>223.932621</td>\n",
              "      <td>385.995336</td>\n",
              "      <td>35.320064</td>\n",
              "      <td>67.216773</td>\n",
              "      <td>67.728655</td>\n",
              "      <td>2.064833</td>\n",
              "      <td>0.015013</td>\n",
              "      <td>12.568495</td>\n",
              "      <td>0.351118</td>\n",
              "      <td>502.446809</td>\n",
              "      <td>58.601324</td>\n",
              "    </tr>\n",
              "    <tr>\n",
              "      <th>4</th>\n",
              "      <td>-15.883499</td>\n",
              "      <td>0.164560</td>\n",
              "      <td>229.522794</td>\n",
              "      <td>156.780237</td>\n",
              "      <td>27.299334</td>\n",
              "      <td>54.896736</td>\n",
              "      <td>-123.075430</td>\n",
              "      <td>2.009268</td>\n",
              "      <td>0.047281</td>\n",
              "      <td>12.466829</td>\n",
              "      <td>0.294770</td>\n",
              "      <td>347.859190</td>\n",
              "      <td>39.868851</td>\n",
              "    </tr>\n",
              "    <tr>\n",
              "      <th>...</th>\n",
              "      <td>...</td>\n",
              "      <td>...</td>\n",
              "      <td>...</td>\n",
              "      <td>...</td>\n",
              "      <td>...</td>\n",
              "      <td>...</td>\n",
              "      <td>...</td>\n",
              "      <td>...</td>\n",
              "      <td>...</td>\n",
              "      <td>...</td>\n",
              "      <td>...</td>\n",
              "      <td>...</td>\n",
              "      <td>...</td>\n",
              "    </tr>\n",
              "    <tr>\n",
              "      <th>995</th>\n",
              "      <td>-15.500759</td>\n",
              "      <td>0.161564</td>\n",
              "      <td>234.500633</td>\n",
              "      <td>187.319065</td>\n",
              "      <td>33.805803</td>\n",
              "      <td>65.609865</td>\n",
              "      <td>-155.105779</td>\n",
              "      <td>2.026198</td>\n",
              "      <td>0.075808</td>\n",
              "      <td>12.870502</td>\n",
              "      <td>0.272223</td>\n",
              "      <td>345.705632</td>\n",
              "      <td>12.925377</td>\n",
              "    </tr>\n",
              "    <tr>\n",
              "      <th>996</th>\n",
              "      <td>-15.979880</td>\n",
              "      <td>0.169252</td>\n",
              "      <td>198.742950</td>\n",
              "      <td>481.145392</td>\n",
              "      <td>32.278751</td>\n",
              "      <td>54.606618</td>\n",
              "      <td>-199.201249</td>\n",
              "      <td>1.617904</td>\n",
              "      <td>0.208668</td>\n",
              "      <td>10.328441</td>\n",
              "      <td>0.310318</td>\n",
              "      <td>2.704985</td>\n",
              "      <td>30.162489</td>\n",
              "    </tr>\n",
              "    <tr>\n",
              "      <th>997</th>\n",
              "      <td>-16.121898</td>\n",
              "      <td>0.154570</td>\n",
              "      <td>244.507019</td>\n",
              "      <td>300.012402</td>\n",
              "      <td>33.665515</td>\n",
              "      <td>35.731431</td>\n",
              "      <td>-134.320778</td>\n",
              "      <td>2.113219</td>\n",
              "      <td>0.034875</td>\n",
              "      <td>12.003868</td>\n",
              "      <td>0.277070</td>\n",
              "      <td>333.266788</td>\n",
              "      <td>57.138745</td>\n",
              "    </tr>\n",
              "    <tr>\n",
              "      <th>998</th>\n",
              "      <td>-15.686679</td>\n",
              "      <td>0.164847</td>\n",
              "      <td>222.439724</td>\n",
              "      <td>264.258824</td>\n",
              "      <td>32.382841</td>\n",
              "      <td>61.732324</td>\n",
              "      <td>-45.732126</td>\n",
              "      <td>2.110747</td>\n",
              "      <td>0.019444</td>\n",
              "      <td>12.597304</td>\n",
              "      <td>0.280071</td>\n",
              "      <td>413.663178</td>\n",
              "      <td>38.308554</td>\n",
              "    </tr>\n",
              "    <tr>\n",
              "      <th>999</th>\n",
              "      <td>-16.123173</td>\n",
              "      <td>0.164170</td>\n",
              "      <td>208.102674</td>\n",
              "      <td>479.281345</td>\n",
              "      <td>31.095133</td>\n",
              "      <td>23.198767</td>\n",
              "      <td>0.739758</td>\n",
              "      <td>2.026808</td>\n",
              "      <td>0.049164</td>\n",
              "      <td>10.972327</td>\n",
              "      <td>0.456466</td>\n",
              "      <td>348.131816</td>\n",
              "      <td>75.686564</td>\n",
              "    </tr>\n",
              "  </tbody>\n",
              "</table>\n",
              "<p>1000 rows × 13 columns</p>\n",
              "</div>"
            ],
            "text/plain": [
              "          e(0)  ...  Lambda 1.4 Std_dev\n",
              "0   -15.852569  ...           56.112333\n",
              "1   -15.976395  ...           52.328973\n",
              "2   -15.623846  ...           47.878349\n",
              "3   -16.029494  ...           58.601324\n",
              "4   -15.883499  ...           39.868851\n",
              "..         ...  ...                 ...\n",
              "995 -15.500759  ...           12.925377\n",
              "996 -15.979880  ...           30.162489\n",
              "997 -16.121898  ...           57.138745\n",
              "998 -15.686679  ...           38.308554\n",
              "999 -16.123173  ...           75.686564\n",
              "\n",
              "[1000 rows x 13 columns]"
            ]
          },
          "metadata": {
            "tags": []
          },
          "execution_count": 86
        }
      ]
    },
    {
      "cell_type": "code",
      "metadata": {
        "id": "LtYkWaJTwiIp"
      },
      "source": [
        "final_result.to_excel(\"BNN-20_prediction(corr=0.6).xlsx\")"
      ],
      "execution_count": 87,
      "outputs": []
    },
    {
      "cell_type": "code",
      "metadata": {
        "colab": {
          "base_uri": "https://localhost:8080/",
          "height": 805
        },
        "id": "3Bo-uRHmxhT2",
        "outputId": "defbe788-1677-4da8-f8e2-70c9b7bd0e80"
      },
      "source": [
        "import sklearn.metrics\n",
        "import matplotlib.pyplot as plt\n",
        "titles = ['NS_Mass','NS_Rad','Lam']\n",
        "for i in range(3):\n",
        "    fig, ax = plt.subplots()\n",
        "    ax.hist(Y_pred_m[:,i],bins=20)\n",
        "    ax.set_xlabel(titles[i])\n",
        "    plt.show()"
      ],
      "execution_count": 88,
      "outputs": [
        {
          "output_type": "display_data",
          "data": {
            "image/png": "[encoded data removed]",
            "text/plain": [
              "<Figure size 432x288 with 1 Axes>"
            ]
          },
          "metadata": {
            "tags": [],
            "needs_background": "light"
          }
        },
        {
          "output_type": "display_data",
          "data": {
            "image/png": "[encoded data removed]",
            "text/plain": [
              "<Figure size 432x288 with 1 Axes>"
            ]
          },
          "metadata": {
            "tags": [],
            "needs_background": "light"
          }
        },
        {
          "output_type": "display_data",
          "data": {
            "image/png": "[encoded data removed]",
            "text/plain": [
              "<Figure size 432x288 with 1 Axes>"
            ]
          },
          "metadata": {
            "tags": [],
            "needs_background": "light"
          }
        }
      ]
    },
    {
      "cell_type": "code",
      "metadata": {
        "id": "Az1bxnRbXsCX",
        "colab": {
          "base_uri": "https://localhost:8080/",
          "height": 851
        },
        "outputId": "cd375433-dd92-42bc-b748-8db22ad468d2"
      },
      "source": [
        "#plot of values and error bars\n",
        "import sklearn.metrics\n",
        "import matplotlib.pyplot as plt\n",
        "titles = ['NS_Mass','NS_Rad','Lam']\n",
        "for i in range(3):\n",
        "    fig, ax = plt.subplots()\n",
        "    ax.scatter(X_true[:,6],Y_pred_m[:,i])\n",
        "    ax.errorbar(X_true[:,6],Y_pred_m[:,i],yerr=2*Y_pred_s[:,i],ecolor='red',linestyle=\"None\")\n",
        "    ax.set_ylabel(titles[i])\n",
        "    ax.set_xlabel('Ksym(0)')\n",
        "    plt.title(titles[i]+' vs Ksym(0);'+model_i.name)\n",
        "    plt.show()"
      ],
      "execution_count": 30,
      "outputs": [
        {
          "output_type": "display_data",
          "data": {
            "image/png": "[encoded data removed]",
            "text/plain": [
              "<Figure size 432x288 with 1 Axes>"
            ]
          },
          "metadata": {
            "tags": [],
            "needs_background": "light"
          }
        },
        {
          "output_type": "display_data",
          "data": {
            "image/png": "[encoded data removed]",
            "text/plain": [
              "<Figure size 432x288 with 1 Axes>"
            ]
          },
          "metadata": {
            "tags": [],
            "needs_background": "light"
          }
        },
        {
          "output_type": "display_data",
          "data": {
            "image/png": "[encoded data removed]",
            "text/plain": [
              "<Figure size 432x288 with 1 Axes>"
            ]
          },
          "metadata": {
            "tags": [],
            "needs_background": "light"
          }
        }
      ]
    },
    {
      "cell_type": "code",
      "metadata": {
        "id": "wCH2aBbEpT0D"
      },
      "source": [
        ""
      ],
      "execution_count": null,
      "outputs": []
    }
  ]
}