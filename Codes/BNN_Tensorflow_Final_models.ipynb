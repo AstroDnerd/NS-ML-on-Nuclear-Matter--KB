{
  "nbformat": 4,
  "nbformat_minor": 0,
  "metadata": {
    "colab": {
      "name": "BNN_Tensorflow_Final_models.ipynb",
      "provenance": [],
      "collapsed_sections": [
        "nVJXToVbXsCI"
      ],
      "toc_visible": true
    },
    "kernelspec": {
      "name": "python3",
      "display_name": "Python 3"
    }
  },
  "cells": [
    {
      "cell_type": "code",
      "metadata": {
        "id": "OpT9bOfdxDCQ"
      },
      "source": [
        "# Load libriaries and functions.\n",
        "import scipy\n",
        "import pandas as pd\n",
        "import numpy as np\n",
        "import collections\n",
        "import tensorflow as tf\n",
        "tfk = tf.keras\n",
        "tf.keras.backend.set_floatx(\"float64\")\n",
        "import tensorflow_probability as tfp\n",
        "tfd = tfp.distributions\n",
        "# Define helper functions.\n",
        "neg_log_likelihood = lambda x, rv_x: -rv_x.log_prob(x)"
      ],
      "execution_count": 1,
      "outputs": []
    },
    {
      "cell_type": "markdown",
      "metadata": {
        "id": "HTSFQlDzvKKg"
      },
      "source": [
        "# Training on all data"
      ]
    },
    {
      "cell_type": "code",
      "metadata": {
        "ExecuteTime": {
          "end_time": "2020-10-07T07:13:49.421076Z",
          "start_time": "2020-10-07T07:13:48.488567Z"
        },
        "id": "Dn3srAFxXsCD"
      },
      "source": [
        "NS = pd.read_excel(\"NS_EOS.xlsx\")\n",
        "X = NS.iloc[:, 0:7].values\n",
        "y = NS.iloc[:, [7,9,11]].values\n",
        "X_before_transformation = X"
      ],
      "execution_count": 14,
      "outputs": []
    },
    {
      "cell_type": "code",
      "metadata": {
        "ExecuteTime": {
          "end_time": "2020-10-07T07:13:52.874443Z",
          "start_time": "2020-10-07T07:13:52.864470Z"
        },
        "id": "q5PKC0BbXsCF"
      },
      "source": [
        "columns = NS.columns[0:8].tolist() + [NS.columns[9]]+ [NS.columns[11]]\n",
        "inputs = columns[0:7]\n",
        "outputs = columns[7:]"
      ],
      "execution_count": 15,
      "outputs": []
    },
    {
      "cell_type": "markdown",
      "metadata": {
        "id": "nVJXToVbXsCI"
      },
      "source": [
        "## Preprocessing\n"
      ]
    },
    {
      "cell_type": "code",
      "metadata": {
        "ExecuteTime": {
          "end_time": "2020-10-07T07:13:57.654870Z",
          "start_time": "2020-10-07T07:13:54.767947Z"
        },
        "id": "Nh7MaVFbXsCJ"
      },
      "source": [
        "#Standardizing the data\n",
        "from sklearn.preprocessing import StandardScaler\n",
        "sc_X = StandardScaler()\n",
        "X = sc_X.fit_transform(X)\n",
        "sc_y = StandardScaler()\n",
        "y = sc_y.fit_transform(y)\n",
        "X_t = np.hstack((X,y))\n",
        "# Restore frame.\n",
        "dataset = pd.DataFrame(X_t, columns=columns)"
      ],
      "execution_count": 16,
      "outputs": []
    },
    {
      "cell_type": "code",
      "metadata": {
        "ExecuteTime": {
          "end_time": "2020-10-07T07:13:58.236788Z",
          "start_time": "2020-10-07T07:13:58.208861Z"
        },
        "id": "0kY1w-k1XsCL",
        "outputId": "4f44aca5-8ff7-437b-a8e3-2389c341f276",
        "colab": {
          "base_uri": "https://localhost:8080/",
          "height": 402
        }
      },
      "source": [
        "dataset"
      ],
      "execution_count": 17,
      "outputs": [
        {
          "output_type": "execute_result",
          "data": {
            "text/html": [
              "<div>\n",
              "<style scoped>\n",
              "    .dataframe tbody tr th:only-of-type {\n",
              "        vertical-align: middle;\n",
              "    }\n",
              "\n",
              "    .dataframe tbody tr th {\n",
              "        vertical-align: top;\n",
              "    }\n",
              "\n",
              "    .dataframe thead th {\n",
              "        text-align: right;\n",
              "    }\n",
              "</style>\n",
              "<table border=\"1\" class=\"dataframe\">\n",
              "  <thead>\n",
              "    <tr style=\"text-align: right;\">\n",
              "      <th></th>\n",
              "      <th>e(0)</th>\n",
              "      <th>rho(0)</th>\n",
              "      <th>K(0)</th>\n",
              "      <th>Q(0)</th>\n",
              "      <th>J(0)</th>\n",
              "      <th>L(0)</th>\n",
              "      <th>Ksym(0)</th>\n",
              "      <th>NS mass</th>\n",
              "      <th>R14</th>\n",
              "      <th>Lambda14</th>\n",
              "    </tr>\n",
              "  </thead>\n",
              "  <tbody>\n",
              "    <tr>\n",
              "      <th>0</th>\n",
              "      <td>0.687358</td>\n",
              "      <td>0.302562</td>\n",
              "      <td>-0.381250</td>\n",
              "      <td>-0.766316</td>\n",
              "      <td>1.153811</td>\n",
              "      <td>-0.881592</td>\n",
              "      <td>-0.692423</td>\n",
              "      <td>0.191919</td>\n",
              "      <td>-0.753640</td>\n",
              "      <td>-0.771322</td>\n",
              "    </tr>\n",
              "    <tr>\n",
              "      <th>1</th>\n",
              "      <td>-0.968701</td>\n",
              "      <td>0.354830</td>\n",
              "      <td>0.261559</td>\n",
              "      <td>-2.441151</td>\n",
              "      <td>1.591098</td>\n",
              "      <td>-0.742932</td>\n",
              "      <td>-0.203642</td>\n",
              "      <td>0.953546</td>\n",
              "      <td>-0.538471</td>\n",
              "      <td>-0.300545</td>\n",
              "    </tr>\n",
              "    <tr>\n",
              "      <th>2</th>\n",
              "      <td>1.267572</td>\n",
              "      <td>1.478603</td>\n",
              "      <td>0.111733</td>\n",
              "      <td>-1.412748</td>\n",
              "      <td>0.781408</td>\n",
              "      <td>-1.244891</td>\n",
              "      <td>-0.081475</td>\n",
              "      <td>0.698675</td>\n",
              "      <td>-1.057272</td>\n",
              "      <td>-0.635172</td>\n",
              "    </tr>\n",
              "    <tr>\n",
              "      <th>3</th>\n",
              "      <td>-0.451408</td>\n",
              "      <td>0.929784</td>\n",
              "      <td>1.958939</td>\n",
              "      <td>-1.652364</td>\n",
              "      <td>0.152835</td>\n",
              "      <td>-0.455368</td>\n",
              "      <td>-0.329694</td>\n",
              "      <td>1.301007</td>\n",
              "      <td>-0.153793</td>\n",
              "      <td>0.044865</td>\n",
              "    </tr>\n",
              "    <tr>\n",
              "      <th>4</th>\n",
              "      <td>-2.569575</td>\n",
              "      <td>-1.030285</td>\n",
              "      <td>1.987198</td>\n",
              "      <td>-0.558311</td>\n",
              "      <td>-0.049194</td>\n",
              "      <td>-1.039313</td>\n",
              "      <td>-0.412418</td>\n",
              "      <td>1.709199</td>\n",
              "      <td>-0.235230</td>\n",
              "      <td>0.243536</td>\n",
              "    </tr>\n",
              "    <tr>\n",
              "      <th>...</th>\n",
              "      <td>...</td>\n",
              "      <td>...</td>\n",
              "      <td>...</td>\n",
              "      <td>...</td>\n",
              "      <td>...</td>\n",
              "      <td>...</td>\n",
              "      <td>...</td>\n",
              "      <td>...</td>\n",
              "      <td>...</td>\n",
              "      <td>...</td>\n",
              "    </tr>\n",
              "    <tr>\n",
              "      <th>6646</th>\n",
              "      <td>0.011216</td>\n",
              "      <td>0.302562</td>\n",
              "      <td>-0.026111</td>\n",
              "      <td>0.063204</td>\n",
              "      <td>0.977421</td>\n",
              "      <td>-1.552898</td>\n",
              "      <td>-1.405772</td>\n",
              "      <td>-0.717055</td>\n",
              "      <td>-1.566186</td>\n",
              "      <td>-1.434525</td>\n",
              "    </tr>\n",
              "    <tr>\n",
              "      <th>6647</th>\n",
              "      <td>0.011732</td>\n",
              "      <td>-0.089452</td>\n",
              "      <td>-0.026050</td>\n",
              "      <td>0.063209</td>\n",
              "      <td>1.528291</td>\n",
              "      <td>-1.160043</td>\n",
              "      <td>-1.025951</td>\n",
              "      <td>0.125215</td>\n",
              "      <td>-0.980908</td>\n",
              "      <td>-0.934861</td>\n",
              "    </tr>\n",
              "    <tr>\n",
              "      <th>6648</th>\n",
              "      <td>0.009669</td>\n",
              "      <td>-0.141721</td>\n",
              "      <td>-0.025982</td>\n",
              "      <td>0.063176</td>\n",
              "      <td>1.485894</td>\n",
              "      <td>-1.555810</td>\n",
              "      <td>-1.496734</td>\n",
              "      <td>-0.580659</td>\n",
              "      <td>-1.494246</td>\n",
              "      <td>-1.390639</td>\n",
              "    </tr>\n",
              "    <tr>\n",
              "      <th>6649</th>\n",
              "      <td>0.012247</td>\n",
              "      <td>0.015085</td>\n",
              "      <td>-0.026016</td>\n",
              "      <td>0.063193</td>\n",
              "      <td>1.973312</td>\n",
              "      <td>-1.265334</td>\n",
              "      <td>-1.205646</td>\n",
              "      <td>-0.007199</td>\n",
              "      <td>-1.134415</td>\n",
              "      <td>-1.081491</td>\n",
              "    </tr>\n",
              "    <tr>\n",
              "      <th>6650</th>\n",
              "      <td>0.010184</td>\n",
              "      <td>0.093488</td>\n",
              "      <td>-0.026056</td>\n",
              "      <td>0.063234</td>\n",
              "      <td>1.913513</td>\n",
              "      <td>-1.176413</td>\n",
              "      <td>-1.082477</td>\n",
              "      <td>0.104307</td>\n",
              "      <td>-1.041270</td>\n",
              "      <td>-0.991547</td>\n",
              "    </tr>\n",
              "  </tbody>\n",
              "</table>\n",
              "<p>6651 rows × 10 columns</p>\n",
              "</div>"
            ],
            "text/plain": [
              "          e(0)    rho(0)      K(0)  ...   NS mass       R14  Lambda14\n",
              "0     0.687358  0.302562 -0.381250  ...  0.191919 -0.753640 -0.771322\n",
              "1    -0.968701  0.354830  0.261559  ...  0.953546 -0.538471 -0.300545\n",
              "2     1.267572  1.478603  0.111733  ...  0.698675 -1.057272 -0.635172\n",
              "3    -0.451408  0.929784  1.958939  ...  1.301007 -0.153793  0.044865\n",
              "4    -2.569575 -1.030285  1.987198  ...  1.709199 -0.235230  0.243536\n",
              "...        ...       ...       ...  ...       ...       ...       ...\n",
              "6646  0.011216  0.302562 -0.026111  ... -0.717055 -1.566186 -1.434525\n",
              "6647  0.011732 -0.089452 -0.026050  ...  0.125215 -0.980908 -0.934861\n",
              "6648  0.009669 -0.141721 -0.025982  ... -0.580659 -1.494246 -1.390639\n",
              "6649  0.012247  0.015085 -0.026016  ... -0.007199 -1.134415 -1.081491\n",
              "6650  0.010184  0.093488 -0.026056  ...  0.104307 -1.041270 -0.991547\n",
              "\n",
              "[6651 rows x 10 columns]"
            ]
          },
          "metadata": {
            "tags": []
          },
          "execution_count": 17
        }
      ]
    },
    {
      "cell_type": "code",
      "metadata": {
        "ExecuteTime": {
          "end_time": "2020-10-07T08:27:51.013169Z",
          "start_time": "2020-10-07T08:27:50.964049Z"
        },
        "id": "cPov9qjKXsCP"
      },
      "source": [
        "# Define some hyperparameters.\n",
        "n_epochs = 40\n",
        "n_samples = dataset.shape[0]\n",
        "n_batches = 32\n",
        "batch_size = np.floor(n_samples/n_batches)\n",
        "buffer_size = n_samples\n",
        "\n",
        "# Define training and test data sizes.\n",
        "n_train = int(dataset.shape[0]) #Complete dataset\n",
        "\n",
        "# Define dataset instance.\n",
        "data = tf.data.Dataset.from_tensor_slices((dataset[inputs].values, dataset[outputs].values))\n",
        "data = data.shuffle(n_samples, reshuffle_each_iteration=True)\n",
        "\n",
        "# Define train and test data instances.\n",
        "data_train = data.take(n_train).batch(batch_size).repeat(n_epochs)\n",
        "data_test = data.skip(n_train).batch(1).repeat(n_epochs)  #this is 0"
      ],
      "execution_count": 48,
      "outputs": []
    },
    {
      "cell_type": "markdown",
      "metadata": {
        "id": "eV11aj9-XsCR"
      },
      "source": [
        "## Model Building\n",
        "### Aleotoric Uncertainty\n",
        "To account for aleotoric uncertainty, which arises from the noise in the output, dense layers are combined with probabilistic layers. More specifically, the mean and covariance matrix of the output is modelled as a function of the input and parameter weights. The first hidden layer shall consist of 10 nodes, the second one needs 3 nodes for the means plus ten nodes for the variances and covariances of the 3-dimensional (there are 3 outputs) multivariate Gaussian posterior probability distribution in the final layer. This is achieved using the params_size method of the last layer (MultivariateNormalTriL), which is the declaration of the posterior probability distribution structure, in this case a multivariate normal distribution in which only one half of the covariance matrix is estimated (due to symmetry). The total number of parameters in the model is 179 — estimated by variational methods. The deterministic version of this neural network consists of an input layer, ten latent variables (hidden nodes), and an output layer (114 parameters), which does not include the uncertainty in the parameters weights."
      ]
    },
    {
      "cell_type": "code",
      "metadata": {
        "id": "QEXruBo_OwOp"
      },
      "source": [
        "class EarlyStoppingAtMinLoss(tfk.callbacks.Callback):\n",
        "    \"\"\"Stop training before loss becomes negative\n",
        "\n",
        "  Arguments:\n",
        "      patience: Number of epochs to wait after min has been hit. After this\n",
        "      number of no improvement, training stops.\n",
        "  \"\"\"\n",
        "\n",
        "    def __init__(self, patience=0):\n",
        "        super(EarlyStoppingAtMinLoss, self).__init__()\n",
        "        self.patience = patience\n",
        "        # best_weights to store the weights at which the minimum loss occurs.\n",
        "        self.best_weights = None\n",
        "\n",
        "    def on_train_begin(self, logs=None):\n",
        "        # The number of epoch it has waited when loss is no longer minimum.\n",
        "        self.wait = 0\n",
        "        # The epoch the training stops at.\n",
        "        self.stopped_epoch = 0\n",
        "        # Initialize the best as infinity.\n",
        "        self.best = np.Inf\n",
        "\n",
        "    def on_epoch_end(self, epoch, logs=None):\n",
        "        current = logs.get(\"loss\")\n",
        "        if np.less(current, self.best) and current>0:\n",
        "            self.best = current\n",
        "            self.wait = 0\n",
        "            # Record the best weights if current results is better (less).\n",
        "            self.best_weights = self.model.get_weights()\n",
        "        elif np.less(current,0):\n",
        "            '''self.wait += 1\n",
        "            if self.wait >= self.patience:'''\n",
        "            self.stopped_epoch = epoch\n",
        "            self.model.stop_training = True\n",
        "            print(\"\\n Restoring model weights from the end of the best epoch.\")\n",
        "            self.model.set_weights(self.best_weights)\n",
        "        \n",
        "\n",
        "    def on_train_end(self, logs=None):\n",
        "        if self.stopped_epoch > 0:\n",
        "            print(\"Epoch %02d: early stopping\" % (self.stopped_epoch))\n"
      ],
      "execution_count": 49,
      "outputs": []
    },
    {
      "cell_type": "code",
      "metadata": {
        "ExecuteTime": {
          "end_time": "2020-10-07T09:10:55.177955Z",
          "start_time": "2020-10-07T09:10:14.978403Z"
        },
        "id": "9A5yPV6-XsCR"
      },
      "source": [
        "# Define prior for regularization.\n",
        "len_inputs = 7\n",
        "len_outputs = 3\n",
        "prior = tfd.Independent(tfd.Normal(loc=tf.zeros(len_outputs, dtype=tf.float64), scale=1.0), reinterpreted_batch_ndims=1)\n",
        "# Define model instance.\n",
        "def BNN_Model(no_of_nodes,i):\n",
        "  model = tfk.Sequential([tfk.layers.InputLayer(input_shape=(len_inputs,), name=\"input\"),\n",
        "                          tfk.layers.Dense(no_of_nodes, activation=\"relu\", name=\"dense_1\"),\n",
        "                          tfk.layers.Dense(tfp.layers.MultivariateNormalTriL.params_size(len_outputs), activation=None, \n",
        "                                          name=\"distribution_weights\"),\n",
        "                        \n",
        "                          tfp.layers.MultivariateNormalTriL(len_outputs, \n",
        "                                                            activity_regularizer=\n",
        "                                                            tfp.layers.KLDivergenceRegularizer(prior,weight=1/n_batches)\n",
        "                                    , name=\"output\")]\n",
        "                        , name=\"BNN-\"+str(i))\n",
        "  # Compile model.\n",
        "  model.compile(optimizer=\"adam\", loss=neg_log_likelihood)\n",
        "  # Run training session.\n",
        "  model.fit(data_train, epochs=n_epochs, validation_data=data_test, verbose=True,callbacks=[EarlyStoppingAtMinLoss()])\n",
        "  # Describe model.\n",
        "  return model"
      ],
      "execution_count": 50,
      "outputs": []
    },
    {
      "cell_type": "code",
      "metadata": {
        "id": "F-XnGQytoMym",
        "outputId": "ee63c47f-5ef4-46be-dcc8-61e8f90dfb5c",
        "colab": {
          "base_uri": "https://localhost:8080/"
        }
      },
      "source": [
        "final_models_list = [20,10,9]\n",
        "models = []\n",
        "for i in final_models_list:\n",
        "  model_i = BNN_Model(i,i)\n",
        "  print(\"model \"+str(i)+\" trained.\")\n",
        "  models.append(model_i)"
      ],
      "execution_count": 51,
      "outputs": [
        {
          "output_type": "stream",
          "text": [
            "WARNING:tensorflow:From /usr/local/lib/python3.6/dist-packages/tensorflow/python/ops/linalg/linear_operator_lower_triangular.py:158: calling LinearOperator.__init__ (from tensorflow.python.ops.linalg.linear_operator) with graph_parents is deprecated and will be removed in a future version.\n",
            "Instructions for updating:\n",
            "Do not pass `graph_parents`.  They will  no longer be used.\n",
            "Epoch 1/40\n",
            "1320/1320 [==============================] - 3s 2ms/step - loss: 3.7154\n",
            "Epoch 2/40\n",
            "1320/1320 [==============================] - 3s 3ms/step - loss: 0.8057\n",
            "Epoch 3/40\n",
            "1319/1320 [============================>.] - ETA: 0s - loss: -1.2681\n",
            " Restoring model weights from the end of the best epoch.\n",
            "1320/1320 [==============================] - 3s 3ms/step - loss: -1.2683\n",
            "Epoch 02: early stopping\n",
            "model 20 trained.\n",
            "Epoch 1/40\n",
            "1320/1320 [==============================] - 4s 3ms/step - loss: 102.5294\n",
            "Epoch 2/40\n",
            "1320/1320 [==============================] - 3s 3ms/step - loss: 9.6741\n",
            "Epoch 3/40\n",
            "1320/1320 [==============================] - 3s 3ms/step - loss: 5.4015\n",
            "Epoch 4/40\n",
            "1320/1320 [==============================] - 3s 3ms/step - loss: 4.0418\n",
            "Epoch 5/40\n",
            "1320/1320 [==============================] - 3s 2ms/step - loss: 3.7506\n",
            "Epoch 6/40\n",
            "1320/1320 [==============================] - 3s 3ms/step - loss: 3.3431\n",
            "Epoch 7/40\n",
            "1320/1320 [==============================] - 3s 2ms/step - loss: 2.8124\n",
            "Epoch 8/40\n",
            "1320/1320 [==============================] - 3s 2ms/step - loss: 2.3613\n",
            "Epoch 9/40\n",
            "1320/1320 [==============================] - 3s 3ms/step - loss: 1.7483\n",
            "Epoch 10/40\n",
            "1320/1320 [==============================] - 3s 3ms/step - loss: 0.7312\n",
            "Epoch 11/40\n",
            "1314/1320 [============================>.] - ETA: 0s - loss: -0.5928\n",
            " Restoring model weights from the end of the best epoch.\n",
            "1320/1320 [==============================] - 3s 3ms/step - loss: -0.5953\n",
            "Epoch 10: early stopping\n",
            "model 10 trained.\n",
            "Epoch 1/40\n",
            "1320/1320 [==============================] - 3s 3ms/step - loss: 3.6407\n",
            "Epoch 2/40\n",
            "1320/1320 [==============================] - 4s 3ms/step - loss: 0.7079\n",
            "Epoch 3/40\n",
            "1299/1320 [============================>.] - ETA: 0s - loss: -1.2890\n",
            " Restoring model weights from the end of the best epoch.\n",
            "1320/1320 [==============================] - 3s 3ms/step - loss: -1.2960\n",
            "Epoch 02: early stopping\n",
            "model 9 trained.\n"
          ],
          "name": "stdout"
        }
      ]
    },
    {
      "cell_type": "code",
      "metadata": {
        "id": "MA_KYXSmez5n",
        "outputId": "fd1c3299-760c-49f4-afb7-f3e4c05a50bc",
        "colab": {
          "base_uri": "https://localhost:8080/",
          "height": 851
        }
      },
      "source": [
        "import matplotlib.pyplot as plt\n",
        "# \"Loss\"\n",
        "for model in models:\n",
        "  plt.plot(model.history.history['loss'])\n",
        "  plt.title(model.name+' loss')\n",
        "  plt.ylabel('loss')\n",
        "  plt.xlabel('epoch')\n",
        "  plt.show()"
      ],
      "execution_count": 52,
      "outputs": [
        {
          "output_type": "display_data",
          "data": {
            "image/png": "[encoded data removed]",
            "text/plain": [
              "<Figure size 432x288 with 1 Axes>"
            ]
          },
          "metadata": {
            "tags": [],
            "needs_background": "light"
          }
        },
        {
          "output_type": "display_data",
          "data": {
            "image/png": "[encoded data removed]",
            "text/plain": [
              "<Figure size 432x288 with 1 Axes>"
            ]
          },
          "metadata": {
            "tags": [],
            "needs_background": "light"
          }
        },
        {
          "output_type": "display_data",
          "data": {
            "image/png": "[encoded data removed]",
            "text/plain": [
              "<Figure size 432x288 with 1 Axes>"
            ]
          },
          "metadata": {
            "tags": [],
            "needs_background": "light"
          }
        }
      ]
    },
    {
      "cell_type": "markdown",
      "metadata": {
        "ExecuteTime": {
          "end_time": "2020-10-03T06:16:55.255258Z",
          "start_time": "2020-10-03T06:16:55.247310Z"
        },
        "id": "47euhW96XsCU"
      },
      "source": [
        "The activity_regularizer argument acts as prior for the output layer (the weight has to be adjusted to the number of batches). The training session might take a while depending on the specifications of your machine."
      ]
    },
    {
      "cell_type": "markdown",
      "metadata": {
        "id": "bvvXfW-uXsCV"
      },
      "source": [
        "# Prediction\n",
        "Since it is a probabilistic model, a Monte Carlo experiment is performed to provide a prediction. In particular, every prediction of a sample x results in a different output y, which is why the expectation over many individual predictions has to be calculated. Additionally, the variance can be determined this way."
      ]
    },
    {
      "cell_type": "markdown",
      "metadata": {
        "id": "VpsagN8TH535"
      },
      "source": [
        "## Sampling"
      ]
    },
    {
      "cell_type": "code",
      "metadata": {
        "id": "88JXgCbHH5KT",
        "outputId": "2e99d51d-87de-4513-d4ef-0a5310f82fa9",
        "colab": {
          "base_uri": "https://localhost:8080/"
        }
      },
      "source": [
        "#Input mu (mean) -> [e(0),rho(0),K(0),Q(0),J(0),L(0),Ksym(0)]\n",
        "mu = np.array([-16.0,0.16,230.0,300,32,60,-100])  #small errata in paper, the mean value of Q(0) = +300\n",
        "#Input sigma (variance) -> [e(0),rho(0),K(0),Q(0),J(0),L(0),Ksym(0)]\n",
        "sigma = np.array([0.25,0.005,20,100,3,20,100])\n",
        "#correlations matrix\n",
        "        #        [e,     rho,     K,     Q,    J,     L,     Ksym]\n",
        "corr = np.array([[ 1.,   -0.56, -0.23,  0.06,  0.,    0.04,  0.04],\n",
        "                [-0.56,  1.,   -0.24,  0.27, -0.01, -0.01,  0.07],\n",
        "                [-0.23, -0.24,  1.,   -0.85, -0.15, -0.22, -0.47],\n",
        "                [ 0.06,  0.27, -0.85,  1.,    0.04,  0.12,  0.4 ],\n",
        "                [ 0.,   -0.01, -0.15,  0.04,  1.,    0.82,  0.4 ],\n",
        "                [ 0.04, -0.01, -0.22,  0.12,  0.82,  1.,    0.81],\n",
        "                [ 0.04,  0.07, -0.47,  0.4,   0.4,   0.81,  1.  ]])\n",
        "# Sigma (covariance matrix)\n",
        "d = np.diag(sigma)\n",
        "Sigma = d*corr*d\n",
        "X_sample = []\n",
        "i=0\n",
        "flag=0\n",
        "number_of_samples = 100\n",
        "while flag==0:\n",
        "    X_test = np.random.multivariate_normal(mu,Sigma,size=(number_of_samples*2,1,1))\n",
        "    X_test = X_test[:,0,0]\n",
        "    lower_bound = mu-2*sigma\n",
        "    upper_bound = mu+2*sigma\n",
        "    for x in X_test:\n",
        "        check = (x>lower_bound)==(x<upper_bound)\n",
        "        if check.all()==True:\n",
        "            X_sample.append(x.tolist())\n",
        "    i+=1\n",
        "    if np.array(X_sample).shape[0]>=number_of_samples:\n",
        "        flag=1\n",
        "X_sample = np.array(X_sample)[:100]\n",
        "print(\"Number of iterations= \"+str(i))\n",
        "X_sample.shape"
      ],
      "execution_count": 53,
      "outputs": [
        {
          "output_type": "stream",
          "text": [
            "Number of iterations= 1\n"
          ],
          "name": "stdout"
        },
        {
          "output_type": "execute_result",
          "data": {
            "text/plain": [
              "(100, 7)"
            ]
          },
          "metadata": {
            "tags": []
          },
          "execution_count": 53
        }
      ]
    },
    {
      "cell_type": "code",
      "metadata": {
        "id": "70c5JTPoN2fd",
        "outputId": "d03bfa42-90d0-46fb-d10f-b919c1c6e8a8",
        "colab": {
          "base_uri": "https://localhost:8080/",
          "height": 402
        }
      },
      "source": [
        "test_untransformed = pd.DataFrame(data=X_sample,columns=inputs)\n",
        "test_untransformed"
      ],
      "execution_count": 85,
      "outputs": [
        {
          "output_type": "execute_result",
          "data": {
            "text/html": [
              "<div>\n",
              "<style scoped>\n",
              "    .dataframe tbody tr th:only-of-type {\n",
              "        vertical-align: middle;\n",
              "    }\n",
              "\n",
              "    .dataframe tbody tr th {\n",
              "        vertical-align: top;\n",
              "    }\n",
              "\n",
              "    .dataframe thead th {\n",
              "        text-align: right;\n",
              "    }\n",
              "</style>\n",
              "<table border=\"1\" class=\"dataframe\">\n",
              "  <thead>\n",
              "    <tr style=\"text-align: right;\">\n",
              "      <th></th>\n",
              "      <th>e(0)</th>\n",
              "      <th>rho(0)</th>\n",
              "      <th>K(0)</th>\n",
              "      <th>Q(0)</th>\n",
              "      <th>J(0)</th>\n",
              "      <th>L(0)</th>\n",
              "      <th>Ksym(0)</th>\n",
              "    </tr>\n",
              "  </thead>\n",
              "  <tbody>\n",
              "    <tr>\n",
              "      <th>0</th>\n",
              "      <td>-15.736308</td>\n",
              "      <td>0.156859</td>\n",
              "      <td>244.101472</td>\n",
              "      <td>363.729541</td>\n",
              "      <td>29.631643</td>\n",
              "      <td>99.822570</td>\n",
              "      <td>-172.853646</td>\n",
              "    </tr>\n",
              "    <tr>\n",
              "      <th>1</th>\n",
              "      <td>-16.432239</td>\n",
              "      <td>0.158231</td>\n",
              "      <td>237.724758</td>\n",
              "      <td>292.016826</td>\n",
              "      <td>32.649365</td>\n",
              "      <td>45.694169</td>\n",
              "      <td>-207.196570</td>\n",
              "    </tr>\n",
              "    <tr>\n",
              "      <th>2</th>\n",
              "      <td>-15.671115</td>\n",
              "      <td>0.156580</td>\n",
              "      <td>233.918523</td>\n",
              "      <td>257.755429</td>\n",
              "      <td>34.686872</td>\n",
              "      <td>41.294243</td>\n",
              "      <td>-85.927067</td>\n",
              "    </tr>\n",
              "    <tr>\n",
              "      <th>3</th>\n",
              "      <td>-15.952438</td>\n",
              "      <td>0.162968</td>\n",
              "      <td>217.714749</td>\n",
              "      <td>293.181784</td>\n",
              "      <td>37.008157</td>\n",
              "      <td>38.530173</td>\n",
              "      <td>-189.091037</td>\n",
              "    </tr>\n",
              "    <tr>\n",
              "      <th>4</th>\n",
              "      <td>-15.914012</td>\n",
              "      <td>0.150298</td>\n",
              "      <td>202.617507</td>\n",
              "      <td>295.111658</td>\n",
              "      <td>26.809657</td>\n",
              "      <td>67.798354</td>\n",
              "      <td>-179.104606</td>\n",
              "    </tr>\n",
              "    <tr>\n",
              "      <th>...</th>\n",
              "      <td>...</td>\n",
              "      <td>...</td>\n",
              "      <td>...</td>\n",
              "      <td>...</td>\n",
              "      <td>...</td>\n",
              "      <td>...</td>\n",
              "      <td>...</td>\n",
              "    </tr>\n",
              "    <tr>\n",
              "      <th>95</th>\n",
              "      <td>-16.307431</td>\n",
              "      <td>0.155515</td>\n",
              "      <td>240.395479</td>\n",
              "      <td>467.637131</td>\n",
              "      <td>37.294641</td>\n",
              "      <td>87.213317</td>\n",
              "      <td>-102.204064</td>\n",
              "    </tr>\n",
              "    <tr>\n",
              "      <th>96</th>\n",
              "      <td>-15.783386</td>\n",
              "      <td>0.167173</td>\n",
              "      <td>215.217607</td>\n",
              "      <td>276.300176</td>\n",
              "      <td>29.982700</td>\n",
              "      <td>61.187725</td>\n",
              "      <td>-116.886455</td>\n",
              "    </tr>\n",
              "    <tr>\n",
              "      <th>97</th>\n",
              "      <td>-16.340952</td>\n",
              "      <td>0.165997</td>\n",
              "      <td>228.257148</td>\n",
              "      <td>422.910866</td>\n",
              "      <td>32.062723</td>\n",
              "      <td>76.526831</td>\n",
              "      <td>-163.005982</td>\n",
              "    </tr>\n",
              "    <tr>\n",
              "      <th>98</th>\n",
              "      <td>-15.814349</td>\n",
              "      <td>0.159863</td>\n",
              "      <td>229.668049</td>\n",
              "      <td>380.407060</td>\n",
              "      <td>30.557722</td>\n",
              "      <td>66.284303</td>\n",
              "      <td>-160.158070</td>\n",
              "    </tr>\n",
              "    <tr>\n",
              "      <th>99</th>\n",
              "      <td>-16.034388</td>\n",
              "      <td>0.158571</td>\n",
              "      <td>225.507210</td>\n",
              "      <td>276.273453</td>\n",
              "      <td>29.157098</td>\n",
              "      <td>65.535916</td>\n",
              "      <td>-157.464645</td>\n",
              "    </tr>\n",
              "  </tbody>\n",
              "</table>\n",
              "<p>100 rows × 7 columns</p>\n",
              "</div>"
            ],
            "text/plain": [
              "         e(0)    rho(0)        K(0)  ...       J(0)       L(0)     Ksym(0)\n",
              "0  -15.736308  0.156859  244.101472  ...  29.631643  99.822570 -172.853646\n",
              "1  -16.432239  0.158231  237.724758  ...  32.649365  45.694169 -207.196570\n",
              "2  -15.671115  0.156580  233.918523  ...  34.686872  41.294243  -85.927067\n",
              "3  -15.952438  0.162968  217.714749  ...  37.008157  38.530173 -189.091037\n",
              "4  -15.914012  0.150298  202.617507  ...  26.809657  67.798354 -179.104606\n",
              "..        ...       ...         ...  ...        ...        ...         ...\n",
              "95 -16.307431  0.155515  240.395479  ...  37.294641  87.213317 -102.204064\n",
              "96 -15.783386  0.167173  215.217607  ...  29.982700  61.187725 -116.886455\n",
              "97 -16.340952  0.165997  228.257148  ...  32.062723  76.526831 -163.005982\n",
              "98 -15.814349  0.159863  229.668049  ...  30.557722  66.284303 -160.158070\n",
              "99 -16.034388  0.158571  225.507210  ...  29.157098  65.535916 -157.464645\n",
              "\n",
              "[100 rows x 7 columns]"
            ]
          },
          "metadata": {
            "tags": []
          },
          "execution_count": 85
        }
      ]
    },
    {
      "cell_type": "code",
      "metadata": {
        "id": "gGsekUio3L5M",
        "outputId": "d9481e16-f43e-4388-919b-210cfafdaa7f",
        "colab": {
          "base_uri": "https://localhost:8080/",
          "height": 402
        }
      },
      "source": [
        "test = sc_X.transform(X_sample)\n",
        "test_df = pd.DataFrame(data=test,columns=inputs)\n",
        "test_df"
      ],
      "execution_count": 55,
      "outputs": [
        {
          "output_type": "execute_result",
          "data": {
            "text/html": [
              "<div>\n",
              "<style scoped>\n",
              "    .dataframe tbody tr th:only-of-type {\n",
              "        vertical-align: middle;\n",
              "    }\n",
              "\n",
              "    .dataframe tbody tr th {\n",
              "        vertical-align: top;\n",
              "    }\n",
              "\n",
              "    .dataframe thead th {\n",
              "        text-align: right;\n",
              "    }\n",
              "</style>\n",
              "<table border=\"1\" class=\"dataframe\">\n",
              "  <thead>\n",
              "    <tr style=\"text-align: right;\">\n",
              "      <th></th>\n",
              "      <th>e(0)</th>\n",
              "      <th>rho(0)</th>\n",
              "      <th>K(0)</th>\n",
              "      <th>Q(0)</th>\n",
              "      <th>J(0)</th>\n",
              "      <th>L(0)</th>\n",
              "      <th>Ksym(0)</th>\n",
              "    </tr>\n",
              "  </thead>\n",
              "  <tbody>\n",
              "    <tr>\n",
              "      <th>0</th>\n",
              "      <td>1.371197</td>\n",
              "      <td>-0.805669</td>\n",
              "      <td>0.930720</td>\n",
              "      <td>0.922559</td>\n",
              "      <td>-0.899510</td>\n",
              "      <td>2.154432</td>\n",
              "      <td>-1.592892</td>\n",
              "    </tr>\n",
              "    <tr>\n",
              "      <th>1</th>\n",
              "      <td>-2.218036</td>\n",
              "      <td>-0.447329</td>\n",
              "      <td>0.498061</td>\n",
              "      <td>-0.044440</td>\n",
              "      <td>0.181075</td>\n",
              "      <td>-1.185491</td>\n",
              "      <td>-2.086095</td>\n",
              "    </tr>\n",
              "    <tr>\n",
              "      <th>2</th>\n",
              "      <td>1.707424</td>\n",
              "      <td>-0.878642</td>\n",
              "      <td>0.239808</td>\n",
              "      <td>-0.506432</td>\n",
              "      <td>0.910665</td>\n",
              "      <td>-1.456983</td>\n",
              "      <td>-0.344528</td>\n",
              "    </tr>\n",
              "    <tr>\n",
              "      <th>3</th>\n",
              "      <td>0.256516</td>\n",
              "      <td>0.790730</td>\n",
              "      <td>-0.859616</td>\n",
              "      <td>-0.028731</td>\n",
              "      <td>1.741870</td>\n",
              "      <td>-1.627536</td>\n",
              "      <td>-1.826079</td>\n",
              "    </tr>\n",
              "    <tr>\n",
              "      <th>4</th>\n",
              "      <td>0.454695</td>\n",
              "      <td>-2.520472</td>\n",
              "      <td>-1.883962</td>\n",
              "      <td>-0.002708</td>\n",
              "      <td>-1.910006</td>\n",
              "      <td>0.178419</td>\n",
              "      <td>-1.682663</td>\n",
              "    </tr>\n",
              "    <tr>\n",
              "      <th>...</th>\n",
              "      <td>...</td>\n",
              "      <td>...</td>\n",
              "      <td>...</td>\n",
              "      <td>...</td>\n",
              "      <td>...</td>\n",
              "      <td>...</td>\n",
              "      <td>...</td>\n",
              "    </tr>\n",
              "    <tr>\n",
              "      <th>95</th>\n",
              "      <td>-1.574345</td>\n",
              "      <td>-1.157137</td>\n",
              "      <td>0.679269</td>\n",
              "      <td>2.323684</td>\n",
              "      <td>1.844454</td>\n",
              "      <td>1.376394</td>\n",
              "      <td>-0.578284</td>\n",
              "    </tr>\n",
              "    <tr>\n",
              "      <th>96</th>\n",
              "      <td>1.128393</td>\n",
              "      <td>1.889808</td>\n",
              "      <td>-1.029047</td>\n",
              "      <td>-0.256368</td>\n",
              "      <td>-0.773804</td>\n",
              "      <td>-0.229481</td>\n",
              "      <td>-0.789140</td>\n",
              "    </tr>\n",
              "    <tr>\n",
              "      <th>97</th>\n",
              "      <td>-1.747231</td>\n",
              "      <td>1.582298</td>\n",
              "      <td>-0.144315</td>\n",
              "      <td>1.720580</td>\n",
              "      <td>-0.028990</td>\n",
              "      <td>0.716999</td>\n",
              "      <td>-1.451468</td>\n",
              "    </tr>\n",
              "    <tr>\n",
              "      <th>98</th>\n",
              "      <td>0.968705</td>\n",
              "      <td>-0.020657</td>\n",
              "      <td>-0.048586</td>\n",
              "      <td>1.147444</td>\n",
              "      <td>-0.567900</td>\n",
              "      <td>0.084996</td>\n",
              "      <td>-1.410569</td>\n",
              "    </tr>\n",
              "    <tr>\n",
              "      <th>99</th>\n",
              "      <td>-0.166137</td>\n",
              "      <td>-0.358501</td>\n",
              "      <td>-0.330898</td>\n",
              "      <td>-0.256729</td>\n",
              "      <td>-1.069435</td>\n",
              "      <td>0.038818</td>\n",
              "      <td>-1.371889</td>\n",
              "    </tr>\n",
              "  </tbody>\n",
              "</table>\n",
              "<p>100 rows × 7 columns</p>\n",
              "</div>"
            ],
            "text/plain": [
              "        e(0)    rho(0)      K(0)      Q(0)      J(0)      L(0)   Ksym(0)\n",
              "0   1.371197 -0.805669  0.930720  0.922559 -0.899510  2.154432 -1.592892\n",
              "1  -2.218036 -0.447329  0.498061 -0.044440  0.181075 -1.185491 -2.086095\n",
              "2   1.707424 -0.878642  0.239808 -0.506432  0.910665 -1.456983 -0.344528\n",
              "3   0.256516  0.790730 -0.859616 -0.028731  1.741870 -1.627536 -1.826079\n",
              "4   0.454695 -2.520472 -1.883962 -0.002708 -1.910006  0.178419 -1.682663\n",
              "..       ...       ...       ...       ...       ...       ...       ...\n",
              "95 -1.574345 -1.157137  0.679269  2.323684  1.844454  1.376394 -0.578284\n",
              "96  1.128393  1.889808 -1.029047 -0.256368 -0.773804 -0.229481 -0.789140\n",
              "97 -1.747231  1.582298 -0.144315  1.720580 -0.028990  0.716999 -1.451468\n",
              "98  0.968705 -0.020657 -0.048586  1.147444 -0.567900  0.084996 -1.410569\n",
              "99 -0.166137 -0.358501 -0.330898 -0.256729 -1.069435  0.038818 -1.371889\n",
              "\n",
              "[100 rows x 7 columns]"
            ]
          },
          "metadata": {
            "tags": []
          },
          "execution_count": 55
        }
      ]
    },
    {
      "cell_type": "markdown",
      "metadata": {
        "id": "wgYauBfUH9bl"
      },
      "source": [
        "## Predicting\n"
      ]
    },
    {
      "cell_type": "code",
      "metadata": {
        "id": "u0mvRuZbsTry"
      },
      "source": [
        "#Selecting model to show output (best overall is 20)\n",
        "samples = test.shape[0]\n",
        "iterations = 50\n",
        "len_inputs = 7\n",
        "len_outputs = 3\n",
        "model_i = models[0]\n",
        "X_true = np.empty(shape=(samples, len_inputs))\n",
        "Y_pred = np.empty(shape=(samples, len_outputs, iterations))\n",
        "for i in range(samples):\n",
        "    # Define datatest instance.\n",
        "    X_true[i,:] = X_sample[i,:]\n",
        "    arr = test[i,:]\n",
        "    for k in range(iterations):\n",
        "      Y_pred[i,:,k] = model_i.predict([[arr[0],arr[1],arr[2],arr[3],arr[4],arr[5],arr[6]]])\n",
        "      Y_pred[i,:,k] = sc_y.inverse_transform(Y_pred[i,:,k])\n",
        "\n",
        "# Calculate mean and standard deviation.\n",
        "Y_pred_m = np.mean(Y_pred, axis=-1)\n",
        "Y_pred_s = np.std(Y_pred, axis=-1)"
      ],
      "execution_count": 76,
      "outputs": []
    },
    {
      "cell_type": "code",
      "metadata": {
        "id": "auBvPaPYZuTo"
      },
      "source": [
        "final_result = test_untransformed\n",
        "final_result['NS Mass Mean'] = Y_pred_m[:,0].transpose()\n",
        "final_result['NS Mass Std_dev'] = Y_pred_s[:,0].transpose()\n",
        "final_result['NS Radius Mean'] = Y_pred_m[:,1].transpose()\n",
        "final_result['NS Radius Std_dev'] = Y_pred_s[:,1].transpose()\n",
        "final_result['Lambda 1.6 Mean'] = Y_pred_m[:,2].transpose()\n",
        "final_result['Lambda 1.6 Std_dev'] = Y_pred_s[:,2].transpose()"
      ],
      "execution_count": 86,
      "outputs": []
    },
    {
      "cell_type": "code",
      "metadata": {
        "id": "04k-vGLhaULw",
        "outputId": "6f04e47d-b866-4c59-d0f9-3fe61c3e51f6",
        "colab": {
          "base_uri": "https://localhost:8080/",
          "height": 435
        }
      },
      "source": [
        "final_result"
      ],
      "execution_count": 87,
      "outputs": [
        {
          "output_type": "execute_result",
          "data": {
            "text/html": [
              "<div>\n",
              "<style scoped>\n",
              "    .dataframe tbody tr th:only-of-type {\n",
              "        vertical-align: middle;\n",
              "    }\n",
              "\n",
              "    .dataframe tbody tr th {\n",
              "        vertical-align: top;\n",
              "    }\n",
              "\n",
              "    .dataframe thead th {\n",
              "        text-align: right;\n",
              "    }\n",
              "</style>\n",
              "<table border=\"1\" class=\"dataframe\">\n",
              "  <thead>\n",
              "    <tr style=\"text-align: right;\">\n",
              "      <th></th>\n",
              "      <th>e(0)</th>\n",
              "      <th>rho(0)</th>\n",
              "      <th>K(0)</th>\n",
              "      <th>Q(0)</th>\n",
              "      <th>J(0)</th>\n",
              "      <th>L(0)</th>\n",
              "      <th>Ksym(0)</th>\n",
              "      <th>NS Mass Mean</th>\n",
              "      <th>NS Mass Std_dev</th>\n",
              "      <th>NS Radius Mean</th>\n",
              "      <th>NS Radius Std_dev</th>\n",
              "      <th>Lambda 1.6 Mean</th>\n",
              "      <th>Lambda 1.6 Std_dev</th>\n",
              "    </tr>\n",
              "  </thead>\n",
              "  <tbody>\n",
              "    <tr>\n",
              "      <th>0</th>\n",
              "      <td>-15.736308</td>\n",
              "      <td>0.156859</td>\n",
              "      <td>244.101472</td>\n",
              "      <td>363.729541</td>\n",
              "      <td>29.631643</td>\n",
              "      <td>99.822570</td>\n",
              "      <td>-172.853646</td>\n",
              "      <td>1.917556</td>\n",
              "      <td>0.088663</td>\n",
              "      <td>13.691549</td>\n",
              "      <td>0.361807</td>\n",
              "      <td>460.297958</td>\n",
              "      <td>24.150715</td>\n",
              "    </tr>\n",
              "    <tr>\n",
              "      <th>1</th>\n",
              "      <td>-16.432239</td>\n",
              "      <td>0.158231</td>\n",
              "      <td>237.724758</td>\n",
              "      <td>292.016826</td>\n",
              "      <td>32.649365</td>\n",
              "      <td>45.694169</td>\n",
              "      <td>-207.196570</td>\n",
              "      <td>1.914409</td>\n",
              "      <td>0.089453</td>\n",
              "      <td>11.900110</td>\n",
              "      <td>0.207289</td>\n",
              "      <td>229.542856</td>\n",
              "      <td>26.844975</td>\n",
              "    </tr>\n",
              "    <tr>\n",
              "      <th>2</th>\n",
              "      <td>-15.671115</td>\n",
              "      <td>0.156580</td>\n",
              "      <td>233.918523</td>\n",
              "      <td>257.755429</td>\n",
              "      <td>34.686872</td>\n",
              "      <td>41.294243</td>\n",
              "      <td>-85.927067</td>\n",
              "      <td>2.201606</td>\n",
              "      <td>0.033876</td>\n",
              "      <td>11.959676</td>\n",
              "      <td>0.447267</td>\n",
              "      <td>378.297303</td>\n",
              "      <td>44.889432</td>\n",
              "    </tr>\n",
              "    <tr>\n",
              "      <th>3</th>\n",
              "      <td>-15.952438</td>\n",
              "      <td>0.162968</td>\n",
              "      <td>217.714749</td>\n",
              "      <td>293.181784</td>\n",
              "      <td>37.008157</td>\n",
              "      <td>38.530173</td>\n",
              "      <td>-189.091037</td>\n",
              "      <td>1.897157</td>\n",
              "      <td>0.053039</td>\n",
              "      <td>11.161738</td>\n",
              "      <td>0.238888</td>\n",
              "      <td>163.794377</td>\n",
              "      <td>19.382907</td>\n",
              "    </tr>\n",
              "    <tr>\n",
              "      <th>4</th>\n",
              "      <td>-15.914012</td>\n",
              "      <td>0.150298</td>\n",
              "      <td>202.617507</td>\n",
              "      <td>295.111658</td>\n",
              "      <td>26.809657</td>\n",
              "      <td>67.798354</td>\n",
              "      <td>-179.104606</td>\n",
              "      <td>1.851736</td>\n",
              "      <td>0.111333</td>\n",
              "      <td>12.532059</td>\n",
              "      <td>0.253718</td>\n",
              "      <td>285.780036</td>\n",
              "      <td>36.228474</td>\n",
              "    </tr>\n",
              "    <tr>\n",
              "      <th>...</th>\n",
              "      <td>...</td>\n",
              "      <td>...</td>\n",
              "      <td>...</td>\n",
              "      <td>...</td>\n",
              "      <td>...</td>\n",
              "      <td>...</td>\n",
              "      <td>...</td>\n",
              "      <td>...</td>\n",
              "      <td>...</td>\n",
              "      <td>...</td>\n",
              "      <td>...</td>\n",
              "      <td>...</td>\n",
              "      <td>...</td>\n",
              "    </tr>\n",
              "    <tr>\n",
              "      <th>95</th>\n",
              "      <td>-16.307431</td>\n",
              "      <td>0.155515</td>\n",
              "      <td>240.395479</td>\n",
              "      <td>467.637131</td>\n",
              "      <td>37.294641</td>\n",
              "      <td>87.213317</td>\n",
              "      <td>-102.204064</td>\n",
              "      <td>2.017232</td>\n",
              "      <td>0.029862</td>\n",
              "      <td>13.511227</td>\n",
              "      <td>0.322894</td>\n",
              "      <td>472.794375</td>\n",
              "      <td>41.905097</td>\n",
              "    </tr>\n",
              "    <tr>\n",
              "      <th>96</th>\n",
              "      <td>-15.783386</td>\n",
              "      <td>0.167173</td>\n",
              "      <td>215.217607</td>\n",
              "      <td>276.300176</td>\n",
              "      <td>29.982700</td>\n",
              "      <td>61.187725</td>\n",
              "      <td>-116.886455</td>\n",
              "      <td>1.948965</td>\n",
              "      <td>0.043568</td>\n",
              "      <td>12.105487</td>\n",
              "      <td>0.180143</td>\n",
              "      <td>273.750722</td>\n",
              "      <td>19.168541</td>\n",
              "    </tr>\n",
              "    <tr>\n",
              "      <th>97</th>\n",
              "      <td>-16.340952</td>\n",
              "      <td>0.165997</td>\n",
              "      <td>228.257148</td>\n",
              "      <td>422.910866</td>\n",
              "      <td>32.062723</td>\n",
              "      <td>76.526831</td>\n",
              "      <td>-163.005982</td>\n",
              "      <td>1.817529</td>\n",
              "      <td>0.093714</td>\n",
              "      <td>12.182929</td>\n",
              "      <td>0.233250</td>\n",
              "      <td>205.192960</td>\n",
              "      <td>11.417247</td>\n",
              "    </tr>\n",
              "    <tr>\n",
              "      <th>98</th>\n",
              "      <td>-15.814349</td>\n",
              "      <td>0.159863</td>\n",
              "      <td>229.668049</td>\n",
              "      <td>380.407060</td>\n",
              "      <td>30.557722</td>\n",
              "      <td>66.284303</td>\n",
              "      <td>-160.158070</td>\n",
              "      <td>1.914111</td>\n",
              "      <td>0.076354</td>\n",
              "      <td>12.383295</td>\n",
              "      <td>0.251079</td>\n",
              "      <td>277.117956</td>\n",
              "      <td>24.340234</td>\n",
              "    </tr>\n",
              "    <tr>\n",
              "      <th>99</th>\n",
              "      <td>-16.034388</td>\n",
              "      <td>0.158571</td>\n",
              "      <td>225.507210</td>\n",
              "      <td>276.273453</td>\n",
              "      <td>29.157098</td>\n",
              "      <td>65.535916</td>\n",
              "      <td>-157.464645</td>\n",
              "      <td>1.920273</td>\n",
              "      <td>0.083849</td>\n",
              "      <td>12.644994</td>\n",
              "      <td>0.198130</td>\n",
              "      <td>319.340972</td>\n",
              "      <td>21.505468</td>\n",
              "    </tr>\n",
              "  </tbody>\n",
              "</table>\n",
              "<p>100 rows × 13 columns</p>\n",
              "</div>"
            ],
            "text/plain": [
              "         e(0)    rho(0)  ...  Lambda 1.6 Mean  Lambda 1.6 Std_dev\n",
              "0  -15.736308  0.156859  ...       460.297958           24.150715\n",
              "1  -16.432239  0.158231  ...       229.542856           26.844975\n",
              "2  -15.671115  0.156580  ...       378.297303           44.889432\n",
              "3  -15.952438  0.162968  ...       163.794377           19.382907\n",
              "4  -15.914012  0.150298  ...       285.780036           36.228474\n",
              "..        ...       ...  ...              ...                 ...\n",
              "95 -16.307431  0.155515  ...       472.794375           41.905097\n",
              "96 -15.783386  0.167173  ...       273.750722           19.168541\n",
              "97 -16.340952  0.165997  ...       205.192960           11.417247\n",
              "98 -15.814349  0.159863  ...       277.117956           24.340234\n",
              "99 -16.034388  0.158571  ...       319.340972           21.505468\n",
              "\n",
              "[100 rows x 13 columns]"
            ]
          },
          "metadata": {
            "tags": []
          },
          "execution_count": 87
        }
      ]
    },
    {
      "cell_type": "code",
      "metadata": {
        "id": "Az1bxnRbXsCX",
        "outputId": "3b278676-3081-425c-a6fc-14d2c45436d9",
        "colab": {
          "base_uri": "https://localhost:8080/",
          "height": 851
        }
      },
      "source": [
        "#plot of values and error bars\n",
        "import sklearn.metrics\n",
        "import matplotlib.pyplot as plt\n",
        "titles = ['NS_Mass','NS_Rad','Lam']\n",
        "for i in range(3):\n",
        "    fig, ax = plt.subplots()\n",
        "    ax.scatter(X_true[:,6],Y_pred_m[:,i])\n",
        "    ax.errorbar(X_true[:,6],Y_pred_m[:,i],yerr=2*Y_pred_s[:,i],ecolor='red',linestyle=\"None\")\n",
        "    ax.set_ylabel(titles[i])\n",
        "    ax.set_xlabel('Ksym(0)')\n",
        "    plt.title(titles[i]+' vs Ksym(0);'+model_i.name)\n",
        "    plt.show()"
      ],
      "execution_count": 77,
      "outputs": [
        {
          "output_type": "display_data",
          "data": {
            "image/png": "[encoded data removed]",
            "text/plain": [
              "<Figure size 432x288 with 1 Axes>"
            ]
          },
          "metadata": {
            "tags": [],
            "needs_background": "light"
          }
        },
        {
          "output_type": "display_data",
          "data": {
            "image/png": "[encoded data removed]",
            "text/plain": [
              "<Figure size 432x288 with 1 Axes>"
            ]
          },
          "metadata": {
            "tags": [],
            "needs_background": "light"
          }
        },
        {
          "output_type": "display_data",
          "data": {
            "image/png": "[encoded data removed]",
            "text/plain": [
              "<Figure size 432x288 with 1 Axes>"
            ]
          },
          "metadata": {
            "tags": [],
            "needs_background": "light"
          }
        }
      ]
    },
    {
      "cell_type": "code",
      "metadata": {
        "id": "wCH2aBbEpT0D"
      },
      "source": [
        ""
      ],
      "execution_count": null,
      "outputs": []
    }
  ]
}